{
  "nbformat": 4,
  "nbformat_minor": 0,
  "metadata": {
    "colab": {
      "name": "n113a_data-manipulation.ipynb의 사본",
      "provenance": [],
      "collapsed_sections": [],
      "include_colab_link": true
    },
    "kernelspec": {
      "display_name": "Python 3",
      "language": "python",
      "name": "python3"
    },
    "language_info": {
      "codemirror_mode": {
        "name": "ipython",
        "version": 3
      },
      "file_extension": ".py",
      "mimetype": "text/x-python",
      "name": "python",
      "nbconvert_exporter": "python",
      "pygments_lexer": "ipython3",
      "version": "3.8.5"
    }
  },
  "cells": [
    {
      "cell_type": "markdown",
      "metadata": {
        "id": "view-in-github",
        "colab_type": "text"
      },
      "source": [
        "<a href=\"https://colab.research.google.com/github/tkryu91/Study-Numpy-Pandas/blob/main/n113a_data_manipulation_ipynb%EC%9D%98_%EC%82%AC%EB%B3%B8.ipynb\" target=\"_parent\"><img src=\"https://colab.research.google.com/assets/colab-badge.svg\" alt=\"Open In Colab\"/></a>"
      ]
    },
    {
      "cell_type": "markdown",
      "metadata": {
        "id": "pmU5YUal1eTZ"
      },
      "source": [
        "<img src='https://user-images.githubusercontent.com/6457691/89746244-a6e2a200-daf3-11ea-9314-7863d544d73c.png' width = '200' align = 'right'>\n",
        "\n",
        "## *DATA SCIENCE / SECTION 1 / SPRINT 1 / NOTE 3*\n",
        "\n",
        "# 📝 Assignment\n",
        "\n",
        "---\n",
        "\n",
        "## 1. Concat \n",
        "\n",
        "세션시간에 다뤘던 6개의 데이터를 1개로 합치세요.\n",
        "\n",
        "데이터를 불러오기 위하여 아래의 코드를 참조하세요.\n",
        "\n",
        "합쳐진 데이터의 이름은 `df`입니다.\n",
        "\n",
        "```python\n",
        "import pandas as pd\n",
        "\n",
        "urlhead = 'https://ds-lecture-data.s3.ap-northeast-2.amazonaws.com/stocks/'\n",
        "df1 = pd.read_csv(urlhead + '000080.csv') \n",
        "# '000890.csv'\n",
        "# '005300.csv'\n",
        "# '027740.csv'\n",
        "# '035810.csv'\n",
        "# '136480.csv'\n",
        "```\n",
        "\n",
        "\n",
        "\n",
        "단, 모든 feature, 모든 데이터에 대해서가 아닌\n",
        "\n",
        "- 매출액\n",
        "- 자본총계\n",
        "- EPS\n",
        "\n",
        "- 제일 최근 분기의 데이터\n",
        "\n",
        "에 대해서만 하면 됩니다.\n",
        "\n",
        "||매출액|자본총계|EPS(원)|종목명|\n",
        "|:-:|:-:|:-:|:-:|:-:|\n",
        "|2020/09|6,243|10,897|453|하이트진로|\n",
        "|...|...|...|...|...|\n",
        "|2020/09|2,613|2,695|62|하림|\n",
        "\n",
        "(첫부분은 값이 달라도 되며, 결과 shape는 6,4입니다.)\n",
        "\n",
        "힌트 : \n",
        "- 데이터를 transpose\n",
        "- column의 이름을 변경 및 설정\n",
        "- 데이터의 일부 feature 선택\n",
        "- `종목명`이라는 feature 지정\n",
        "- 이후 `concat`으로 합치기\n",
        "- 합친 이후의 index를 종목명으로 설정 및 drop\n",
        "\n",
        "이라는 단계를 거치면 될겁니다."
      ]
    },
    {
      "cell_type": "code",
      "metadata": {
        "id": "hwBYT8GWxMXU"
      },
      "source": [
        "import pandas as pd\n",
        " \n",
        "urlhead = 'https://ds-lecture-data.s3.ap-northeast-2.amazonaws.com/stocks/'\n",
        "df1 = pd.read_csv(urlhead + '000080.csv') \n",
        "# '000890.csv'\n",
        "# '005300.csv'\n",
        "# '027740.csv'\n",
        "# '035810.csv'\n",
        "# '136480.csv'"
      ],
      "execution_count": 1,
      "outputs": []
    },
    {
      "cell_type": "code",
      "metadata": {
        "colab": {
          "base_uri": "https://localhost:8080/",
          "height": 354
        },
        "id": "8KR9DC4hlats",
        "outputId": "8fba3016-192a-4912-920e-0abf84eacfa6"
      },
      "source": [
        "df1.T"
      ],
      "execution_count": 2,
      "outputs": [
        {
          "output_type": "execute_result",
          "data": {
            "text/html": [
              "<div>\n",
              "<style scoped>\n",
              "    .dataframe tbody tr th:only-of-type {\n",
              "        vertical-align: middle;\n",
              "    }\n",
              "\n",
              "    .dataframe tbody tr th {\n",
              "        vertical-align: top;\n",
              "    }\n",
              "\n",
              "    .dataframe thead th {\n",
              "        text-align: right;\n",
              "    }\n",
              "</style>\n",
              "<table border=\"1\" class=\"dataframe\">\n",
              "  <thead>\n",
              "    <tr style=\"text-align: right;\">\n",
              "      <th></th>\n",
              "      <th>0</th>\n",
              "      <th>1</th>\n",
              "      <th>2</th>\n",
              "      <th>3</th>\n",
              "      <th>4</th>\n",
              "      <th>5</th>\n",
              "      <th>6</th>\n",
              "      <th>7</th>\n",
              "      <th>8</th>\n",
              "      <th>9</th>\n",
              "      <th>10</th>\n",
              "      <th>11</th>\n",
              "      <th>12</th>\n",
              "      <th>13</th>\n",
              "      <th>14</th>\n",
              "      <th>15</th>\n",
              "      <th>16</th>\n",
              "      <th>17</th>\n",
              "      <th>18</th>\n",
              "      <th>19</th>\n",
              "      <th>20</th>\n",
              "      <th>21</th>\n",
              "      <th>22</th>\n",
              "      <th>23</th>\n",
              "      <th>24</th>\n",
              "      <th>25</th>\n",
              "      <th>26</th>\n",
              "      <th>27</th>\n",
              "      <th>28</th>\n",
              "      <th>29</th>\n",
              "      <th>30</th>\n",
              "      <th>31</th>\n",
              "      <th>32</th>\n",
              "    </tr>\n",
              "  </thead>\n",
              "  <tbody>\n",
              "    <tr>\n",
              "      <th>Unnamed: 0</th>\n",
              "      <td>매출액</td>\n",
              "      <td>영업이익</td>\n",
              "      <td>영업이익(발표기준)</td>\n",
              "      <td>세전계속사업이익</td>\n",
              "      <td>당기순이익</td>\n",
              "      <td>당기순이익(지배)</td>\n",
              "      <td>당기순이익(비지배)</td>\n",
              "      <td>자산총계</td>\n",
              "      <td>부채총계</td>\n",
              "      <td>자본총계</td>\n",
              "      <td>자본총계(지배)</td>\n",
              "      <td>자본총계(비지배)</td>\n",
              "      <td>자본금</td>\n",
              "      <td>영업활동현금흐름</td>\n",
              "      <td>투자활동현금흐름</td>\n",
              "      <td>재무활동현금흐름</td>\n",
              "      <td>CAPEX</td>\n",
              "      <td>FCF</td>\n",
              "      <td>이자발생부채</td>\n",
              "      <td>영업이익률</td>\n",
              "      <td>순이익률</td>\n",
              "      <td>ROE(%)</td>\n",
              "      <td>ROA(%)</td>\n",
              "      <td>부채비율</td>\n",
              "      <td>자본유보율</td>\n",
              "      <td>EPS(원)</td>\n",
              "      <td>PER(배)</td>\n",
              "      <td>BPS(원)</td>\n",
              "      <td>PBR(배)</td>\n",
              "      <td>현금DPS(원)</td>\n",
              "      <td>현금배당수익률</td>\n",
              "      <td>현금배당성향(%)</td>\n",
              "      <td>발행주식수(보통주)</td>\n",
              "    </tr>\n",
              "    <tr>\n",
              "      <th>2019/09\\n(IFRS연결)</th>\n",
              "      <td>5,291</td>\n",
              "      <td>492</td>\n",
              "      <td>492</td>\n",
              "      <td>348</td>\n",
              "      <td>258</td>\n",
              "      <td>259</td>\n",
              "      <td>0</td>\n",
              "      <td>34,061</td>\n",
              "      <td>23,056</td>\n",
              "      <td>11,005</td>\n",
              "      <td>10,998</td>\n",
              "      <td>NaN</td>\n",
              "      <td>3,688</td>\n",
              "      <td>2,079</td>\n",
              "      <td>-347</td>\n",
              "      <td>-395</td>\n",
              "      <td>483</td>\n",
              "      <td>1,597</td>\n",
              "      <td>12,615</td>\n",
              "      <td>9.29</td>\n",
              "      <td>4.88</td>\n",
              "      <td>-1.46</td>\n",
              "      <td>-0.50</td>\n",
              "      <td>209.50</td>\n",
              "      <td>220.33</td>\n",
              "      <td>363</td>\n",
              "      <td>NaN</td>\n",
              "      <td>15,761</td>\n",
              "      <td>1.73</td>\n",
              "      <td>0</td>\n",
              "      <td>NaN</td>\n",
              "      <td>0.00</td>\n",
              "      <td>70,133,611</td>\n",
              "    </tr>\n",
              "    <tr>\n",
              "      <th>2019/12\\n(IFRS연결)</th>\n",
              "      <td>5,586</td>\n",
              "      <td>327</td>\n",
              "      <td>327</td>\n",
              "      <td>39</td>\n",
              "      <td>-252</td>\n",
              "      <td>-251</td>\n",
              "      <td>0</td>\n",
              "      <td>32,709</td>\n",
              "      <td>22,377</td>\n",
              "      <td>10,332</td>\n",
              "      <td>10,325</td>\n",
              "      <td>NaN</td>\n",
              "      <td>3,688</td>\n",
              "      <td>601</td>\n",
              "      <td>-475</td>\n",
              "      <td>-910</td>\n",
              "      <td>462</td>\n",
              "      <td>139</td>\n",
              "      <td>11,715</td>\n",
              "      <td>5.85</td>\n",
              "      <td>-4.50</td>\n",
              "      <td>-3.86</td>\n",
              "      <td>-1.27</td>\n",
              "      <td>216.58</td>\n",
              "      <td>202.85</td>\n",
              "      <td>-353</td>\n",
              "      <td>NaN</td>\n",
              "      <td>14,796</td>\n",
              "      <td>1.96</td>\n",
              "      <td>700</td>\n",
              "      <td>NaN</td>\n",
              "      <td>-194.53</td>\n",
              "      <td>70,133,611</td>\n",
              "    </tr>\n",
              "    <tr>\n",
              "      <th>2020/03\\n(IFRS연결)</th>\n",
              "      <td>5,339</td>\n",
              "      <td>561</td>\n",
              "      <td>561</td>\n",
              "      <td>450</td>\n",
              "      <td>334</td>\n",
              "      <td>334</td>\n",
              "      <td>0</td>\n",
              "      <td>36,368</td>\n",
              "      <td>26,164</td>\n",
              "      <td>10,204</td>\n",
              "      <td>10,198</td>\n",
              "      <td>5</td>\n",
              "      <td>3,688</td>\n",
              "      <td>1,230</td>\n",
              "      <td>-416</td>\n",
              "      <td>2,713</td>\n",
              "      <td>430</td>\n",
              "      <td>800</td>\n",
              "      <td>14,452</td>\n",
              "      <td>10.51</td>\n",
              "      <td>6.25</td>\n",
              "      <td>0.46</td>\n",
              "      <td>0.14</td>\n",
              "      <td>256.41</td>\n",
              "      <td>198.70</td>\n",
              "      <td>469</td>\n",
              "      <td>390.26</td>\n",
              "      <td>14,614</td>\n",
              "      <td>1.84</td>\n",
              "      <td>NaN</td>\n",
              "      <td>NaN</td>\n",
              "      <td>0.00</td>\n",
              "      <td>70,133,611</td>\n",
              "    </tr>\n",
              "    <tr>\n",
              "      <th>2020/06\\n(IFRS연결)</th>\n",
              "      <td>5,816</td>\n",
              "      <td>541</td>\n",
              "      <td>541</td>\n",
              "      <td>487</td>\n",
              "      <td>349</td>\n",
              "      <td>349</td>\n",
              "      <td>0</td>\n",
              "      <td>43,007</td>\n",
              "      <td>32,393</td>\n",
              "      <td>10,613</td>\n",
              "      <td>10,608</td>\n",
              "      <td>6</td>\n",
              "      <td>3,688</td>\n",
              "      <td>5,437</td>\n",
              "      <td>-494</td>\n",
              "      <td>1,617</td>\n",
              "      <td>362</td>\n",
              "      <td>5,075</td>\n",
              "      <td>16,576</td>\n",
              "      <td>9.30</td>\n",
              "      <td>5.99</td>\n",
              "      <td>6.48</td>\n",
              "      <td>1.79</td>\n",
              "      <td>305.21</td>\n",
              "      <td>208.16</td>\n",
              "      <td>489</td>\n",
              "      <td>45.23</td>\n",
              "      <td>15,201</td>\n",
              "      <td>2.88</td>\n",
              "      <td>NaN</td>\n",
              "      <td>NaN</td>\n",
              "      <td>0.00</td>\n",
              "      <td>70,133,611</td>\n",
              "    </tr>\n",
              "    <tr>\n",
              "      <th>2020/09\\n(IFRS연결)</th>\n",
              "      <td>6,243</td>\n",
              "      <td>644</td>\n",
              "      <td>644</td>\n",
              "      <td>465</td>\n",
              "      <td>322</td>\n",
              "      <td>323</td>\n",
              "      <td>0</td>\n",
              "      <td>39,617</td>\n",
              "      <td>28,720</td>\n",
              "      <td>10,897</td>\n",
              "      <td>10,893</td>\n",
              "      <td>5</td>\n",
              "      <td>3,688</td>\n",
              "      <td>-3,009</td>\n",
              "      <td>-410</td>\n",
              "      <td>-594</td>\n",
              "      <td>382</td>\n",
              "      <td>-3,391</td>\n",
              "      <td>15,995</td>\n",
              "      <td>10.31</td>\n",
              "      <td>5.17</td>\n",
              "      <td>6.89</td>\n",
              "      <td>2.04</td>\n",
              "      <td>263.55</td>\n",
              "      <td>216.77</td>\n",
              "      <td>453</td>\n",
              "      <td>34.26</td>\n",
              "      <td>15,609</td>\n",
              "      <td>2.32</td>\n",
              "      <td>NaN</td>\n",
              "      <td>NaN</td>\n",
              "      <td>NaN</td>\n",
              "      <td>70,133,611</td>\n",
              "    </tr>\n",
              "  </tbody>\n",
              "</table>\n",
              "</div>"
            ],
            "text/plain": [
              "                      0     1           2   ...       30         31          32\n",
              "Unnamed: 0           매출액  영업이익  영업이익(발표기준)  ...  현금배당수익률  현금배당성향(%)  발행주식수(보통주)\n",
              "2019/09\\n(IFRS연결)  5,291   492         492  ...      NaN       0.00  70,133,611\n",
              "2019/12\\n(IFRS연결)  5,586   327         327  ...      NaN    -194.53  70,133,611\n",
              "2020/03\\n(IFRS연결)  5,339   561         561  ...      NaN       0.00  70,133,611\n",
              "2020/06\\n(IFRS연결)  5,816   541         541  ...      NaN       0.00  70,133,611\n",
              "2020/09\\n(IFRS연결)  6,243   644         644  ...      NaN        NaN  70,133,611\n",
              "\n",
              "[6 rows x 33 columns]"
            ]
          },
          "metadata": {
            "tags": []
          },
          "execution_count": 2
        }
      ]
    },
    {
      "cell_type": "code",
      "metadata": {
        "id": "DPWd3SbLmiy6"
      },
      "source": [
        "def mydf(myurl):\n",
        "    df = pd.read_csv(urlhead + myurl).transpose()\n",
        "    new_header = df.iloc[0] \n",
        "    df = df[1:] \n",
        "    df.columns = new_header \n",
        "    return df[-1:]\n",
        "\n",
        "df1 = mydf('000080.csv')\n",
        "df2 = mydf('000890.csv')\n",
        "df3 = mydf('005300.csv')\n",
        "df4 = mydf('027740.csv')\n",
        "df5 = mydf('035810.csv')\n",
        "df6 = mydf('136480.csv')"
      ],
      "execution_count": 3,
      "outputs": []
    },
    {
      "cell_type": "code",
      "metadata": {
        "colab": {
          "base_uri": "https://localhost:8080/",
          "height": 235
        },
        "id": "KM8EwaoBlluL",
        "outputId": "b036213f-2f38-4358-c3b2-774c56e6a74d"
      },
      "source": [
        "df_original = pd.concat([df1, df2, df3, df4, df5, df6])\n",
        "df_a = df_original[[\"매출액\", \"자산총계\",\"EPS(원)\"]]\n",
        "df_a = df_a.reset_index(drop=True)\n",
        "df_a\n"
      ],
      "execution_count": 4,
      "outputs": [
        {
          "output_type": "execute_result",
          "data": {
            "text/html": [
              "<div>\n",
              "<style scoped>\n",
              "    .dataframe tbody tr th:only-of-type {\n",
              "        vertical-align: middle;\n",
              "    }\n",
              "\n",
              "    .dataframe tbody tr th {\n",
              "        vertical-align: top;\n",
              "    }\n",
              "\n",
              "    .dataframe thead th {\n",
              "        text-align: right;\n",
              "    }\n",
              "</style>\n",
              "<table border=\"1\" class=\"dataframe\">\n",
              "  <thead>\n",
              "    <tr style=\"text-align: right;\">\n",
              "      <th>Unnamed: 0</th>\n",
              "      <th>매출액</th>\n",
              "      <th>자산총계</th>\n",
              "      <th>EPS(원)</th>\n",
              "    </tr>\n",
              "  </thead>\n",
              "  <tbody>\n",
              "    <tr>\n",
              "      <th>0</th>\n",
              "      <td>6,243</td>\n",
              "      <td>39,617</td>\n",
              "      <td>453</td>\n",
              "    </tr>\n",
              "    <tr>\n",
              "      <th>1</th>\n",
              "      <td>205</td>\n",
              "      <td>1,555</td>\n",
              "      <td>3</td>\n",
              "    </tr>\n",
              "    <tr>\n",
              "      <th>2</th>\n",
              "      <td>5,980</td>\n",
              "      <td>34,066</td>\n",
              "      <td>1,682</td>\n",
              "    </tr>\n",
              "    <tr>\n",
              "      <th>3</th>\n",
              "      <td>521</td>\n",
              "      <td>1,897</td>\n",
              "      <td>-61</td>\n",
              "    </tr>\n",
              "    <tr>\n",
              "      <th>4</th>\n",
              "      <td>4,108</td>\n",
              "      <td>18,966</td>\n",
              "      <td>1,168</td>\n",
              "    </tr>\n",
              "    <tr>\n",
              "      <th>5</th>\n",
              "      <td>2,613</td>\n",
              "      <td>8,550</td>\n",
              "      <td>62</td>\n",
              "    </tr>\n",
              "  </tbody>\n",
              "</table>\n",
              "</div>"
            ],
            "text/plain": [
              "Unnamed: 0    매출액    자산총계 EPS(원)\n",
              "0           6,243  39,617    453\n",
              "1             205   1,555      3\n",
              "2           5,980  34,066  1,682\n",
              "3             521   1,897    -61\n",
              "4           4,108  18,966  1,168\n",
              "5           2,613   8,550     62"
            ]
          },
          "metadata": {
            "tags": []
          },
          "execution_count": 4
        }
      ]
    },
    {
      "cell_type": "code",
      "metadata": {
        "colab": {
          "base_uri": "https://localhost:8080/",
          "height": 235
        },
        "id": "lqlS4keArk6f",
        "outputId": "82e96705-e5f2-4162-d55f-3a28b896a0c3"
      },
      "source": [
        "df_name = pd.DataFrame({\"종목명\" : [\"하이트진로\", \"보해양조\", \"롯데칠성\", \"마니커\", \"이지홀딩스\", \"하림\"]})\n",
        "df_name"
      ],
      "execution_count": 5,
      "outputs": [
        {
          "output_type": "execute_result",
          "data": {
            "text/html": [
              "<div>\n",
              "<style scoped>\n",
              "    .dataframe tbody tr th:only-of-type {\n",
              "        vertical-align: middle;\n",
              "    }\n",
              "\n",
              "    .dataframe tbody tr th {\n",
              "        vertical-align: top;\n",
              "    }\n",
              "\n",
              "    .dataframe thead th {\n",
              "        text-align: right;\n",
              "    }\n",
              "</style>\n",
              "<table border=\"1\" class=\"dataframe\">\n",
              "  <thead>\n",
              "    <tr style=\"text-align: right;\">\n",
              "      <th></th>\n",
              "      <th>종목명</th>\n",
              "    </tr>\n",
              "  </thead>\n",
              "  <tbody>\n",
              "    <tr>\n",
              "      <th>0</th>\n",
              "      <td>하이트진로</td>\n",
              "    </tr>\n",
              "    <tr>\n",
              "      <th>1</th>\n",
              "      <td>보해양조</td>\n",
              "    </tr>\n",
              "    <tr>\n",
              "      <th>2</th>\n",
              "      <td>롯데칠성</td>\n",
              "    </tr>\n",
              "    <tr>\n",
              "      <th>3</th>\n",
              "      <td>마니커</td>\n",
              "    </tr>\n",
              "    <tr>\n",
              "      <th>4</th>\n",
              "      <td>이지홀딩스</td>\n",
              "    </tr>\n",
              "    <tr>\n",
              "      <th>5</th>\n",
              "      <td>하림</td>\n",
              "    </tr>\n",
              "  </tbody>\n",
              "</table>\n",
              "</div>"
            ],
            "text/plain": [
              "     종목명\n",
              "0  하이트진로\n",
              "1   보해양조\n",
              "2   롯데칠성\n",
              "3    마니커\n",
              "4  이지홀딩스\n",
              "5     하림"
            ]
          },
          "metadata": {
            "tags": []
          },
          "execution_count": 5
        }
      ]
    },
    {
      "cell_type": "code",
      "metadata": {
        "colab": {
          "base_uri": "https://localhost:8080/"
        },
        "id": "mu6ztlzdr2hS",
        "outputId": "159e1ea0-4446-4180-cc60-5dcb8623cd26"
      },
      "source": [
        "df = pd.concat([df_name, df_a], axis=1)\n",
        "df.replace(\",\",\"\", regex=True, inplace=True)\n",
        "df = df.astype({\"매출액\" : float, \"자산총계\" : float, \"EPS(원)\" : float})\n",
        "df.dtypes"
      ],
      "execution_count": 6,
      "outputs": [
        {
          "output_type": "execute_result",
          "data": {
            "text/plain": [
              "종목명        object\n",
              "매출액       float64\n",
              "자산총계      float64\n",
              "EPS(원)    float64\n",
              "dtype: object"
            ]
          },
          "metadata": {
            "tags": []
          },
          "execution_count": 6
        }
      ]
    },
    {
      "cell_type": "code",
      "metadata": {
        "colab": {
          "base_uri": "https://localhost:8080/",
          "height": 235
        },
        "id": "svgOPj6z8nFX",
        "outputId": "015f3392-4872-42c3-d71b-05e86a7ba8e0"
      },
      "source": [
        "df"
      ],
      "execution_count": 7,
      "outputs": [
        {
          "output_type": "execute_result",
          "data": {
            "text/html": [
              "<div>\n",
              "<style scoped>\n",
              "    .dataframe tbody tr th:only-of-type {\n",
              "        vertical-align: middle;\n",
              "    }\n",
              "\n",
              "    .dataframe tbody tr th {\n",
              "        vertical-align: top;\n",
              "    }\n",
              "\n",
              "    .dataframe thead th {\n",
              "        text-align: right;\n",
              "    }\n",
              "</style>\n",
              "<table border=\"1\" class=\"dataframe\">\n",
              "  <thead>\n",
              "    <tr style=\"text-align: right;\">\n",
              "      <th></th>\n",
              "      <th>종목명</th>\n",
              "      <th>매출액</th>\n",
              "      <th>자산총계</th>\n",
              "      <th>EPS(원)</th>\n",
              "    </tr>\n",
              "  </thead>\n",
              "  <tbody>\n",
              "    <tr>\n",
              "      <th>0</th>\n",
              "      <td>하이트진로</td>\n",
              "      <td>6243.0</td>\n",
              "      <td>39617.0</td>\n",
              "      <td>453.0</td>\n",
              "    </tr>\n",
              "    <tr>\n",
              "      <th>1</th>\n",
              "      <td>보해양조</td>\n",
              "      <td>205.0</td>\n",
              "      <td>1555.0</td>\n",
              "      <td>3.0</td>\n",
              "    </tr>\n",
              "    <tr>\n",
              "      <th>2</th>\n",
              "      <td>롯데칠성</td>\n",
              "      <td>5980.0</td>\n",
              "      <td>34066.0</td>\n",
              "      <td>1682.0</td>\n",
              "    </tr>\n",
              "    <tr>\n",
              "      <th>3</th>\n",
              "      <td>마니커</td>\n",
              "      <td>521.0</td>\n",
              "      <td>1897.0</td>\n",
              "      <td>-61.0</td>\n",
              "    </tr>\n",
              "    <tr>\n",
              "      <th>4</th>\n",
              "      <td>이지홀딩스</td>\n",
              "      <td>4108.0</td>\n",
              "      <td>18966.0</td>\n",
              "      <td>1168.0</td>\n",
              "    </tr>\n",
              "    <tr>\n",
              "      <th>5</th>\n",
              "      <td>하림</td>\n",
              "      <td>2613.0</td>\n",
              "      <td>8550.0</td>\n",
              "      <td>62.0</td>\n",
              "    </tr>\n",
              "  </tbody>\n",
              "</table>\n",
              "</div>"
            ],
            "text/plain": [
              "     종목명     매출액     자산총계  EPS(원)\n",
              "0  하이트진로  6243.0  39617.0   453.0\n",
              "1   보해양조   205.0   1555.0     3.0\n",
              "2   롯데칠성  5980.0  34066.0  1682.0\n",
              "3    마니커   521.0   1897.0   -61.0\n",
              "4  이지홀딩스  4108.0  18966.0  1168.0\n",
              "5     하림  2613.0   8550.0    62.0"
            ]
          },
          "metadata": {
            "tags": []
          },
          "execution_count": 7
        }
      ]
    },
    {
      "cell_type": "markdown",
      "metadata": {
        "id": "RsiWi4DuXPLP"
      },
      "source": [
        "## 2. Reshape \n",
        "\n",
        "방금 만든 데이터를 아래 예시와 같은 **tidy** 형태로 만드세요.\n",
        "\n",
        "이때 tidy 데이터의 이름은 `df_tidy` 입니다.\n",
        "\n",
        "|종목명|Feature|Value|\n",
        "|:-:|:-:|:-:|\n",
        "|하이트진로|매출액|6243|\n",
        "|보해양조|매출액|205|\n",
        "|롯데칠성|매출액|5980|\n",
        "|...|...|...|\n",
        "|마니커|EPS(원)|-61|\n",
        "|이지홀딩스|EPS(원)|1168|\n",
        "|하림|EPS(원)|62|\n",
        "\n",
        "이 후 아래의 코드를 정상적으로 실행했을때 나오는 box의 수를 `res`에 저장하세요.\n",
        "\n",
        "```python\n",
        "sns.boxplot(data = df_tidy, x = '종목명', y = 'value');\n",
        "```\n",
        "\n",
        "\n"
      ]
    },
    {
      "cell_type": "code",
      "metadata": {
        "id": "gACCr67CoUv0",
        "colab": {
          "base_uri": "https://localhost:8080/",
          "height": 607
        },
        "outputId": "ae4c6fed-59b6-4bff-eb55-b159bb9d0c34"
      },
      "source": [
        "import seaborn as sns\n",
        "df_tidy = df.melt(id_vars=\"종목명\", var_name = \"Feature\", value_name = \"Value\", value_vars=[\"매출액\",\"자산총계\", \"EPS(원)\"])\n",
        "df_tidy"
      ],
      "execution_count": 8,
      "outputs": [
        {
          "output_type": "execute_result",
          "data": {
            "text/html": [
              "<div>\n",
              "<style scoped>\n",
              "    .dataframe tbody tr th:only-of-type {\n",
              "        vertical-align: middle;\n",
              "    }\n",
              "\n",
              "    .dataframe tbody tr th {\n",
              "        vertical-align: top;\n",
              "    }\n",
              "\n",
              "    .dataframe thead th {\n",
              "        text-align: right;\n",
              "    }\n",
              "</style>\n",
              "<table border=\"1\" class=\"dataframe\">\n",
              "  <thead>\n",
              "    <tr style=\"text-align: right;\">\n",
              "      <th></th>\n",
              "      <th>종목명</th>\n",
              "      <th>Feature</th>\n",
              "      <th>Value</th>\n",
              "    </tr>\n",
              "  </thead>\n",
              "  <tbody>\n",
              "    <tr>\n",
              "      <th>0</th>\n",
              "      <td>하이트진로</td>\n",
              "      <td>매출액</td>\n",
              "      <td>6243.0</td>\n",
              "    </tr>\n",
              "    <tr>\n",
              "      <th>1</th>\n",
              "      <td>보해양조</td>\n",
              "      <td>매출액</td>\n",
              "      <td>205.0</td>\n",
              "    </tr>\n",
              "    <tr>\n",
              "      <th>2</th>\n",
              "      <td>롯데칠성</td>\n",
              "      <td>매출액</td>\n",
              "      <td>5980.0</td>\n",
              "    </tr>\n",
              "    <tr>\n",
              "      <th>3</th>\n",
              "      <td>마니커</td>\n",
              "      <td>매출액</td>\n",
              "      <td>521.0</td>\n",
              "    </tr>\n",
              "    <tr>\n",
              "      <th>4</th>\n",
              "      <td>이지홀딩스</td>\n",
              "      <td>매출액</td>\n",
              "      <td>4108.0</td>\n",
              "    </tr>\n",
              "    <tr>\n",
              "      <th>5</th>\n",
              "      <td>하림</td>\n",
              "      <td>매출액</td>\n",
              "      <td>2613.0</td>\n",
              "    </tr>\n",
              "    <tr>\n",
              "      <th>6</th>\n",
              "      <td>하이트진로</td>\n",
              "      <td>자산총계</td>\n",
              "      <td>39617.0</td>\n",
              "    </tr>\n",
              "    <tr>\n",
              "      <th>7</th>\n",
              "      <td>보해양조</td>\n",
              "      <td>자산총계</td>\n",
              "      <td>1555.0</td>\n",
              "    </tr>\n",
              "    <tr>\n",
              "      <th>8</th>\n",
              "      <td>롯데칠성</td>\n",
              "      <td>자산총계</td>\n",
              "      <td>34066.0</td>\n",
              "    </tr>\n",
              "    <tr>\n",
              "      <th>9</th>\n",
              "      <td>마니커</td>\n",
              "      <td>자산총계</td>\n",
              "      <td>1897.0</td>\n",
              "    </tr>\n",
              "    <tr>\n",
              "      <th>10</th>\n",
              "      <td>이지홀딩스</td>\n",
              "      <td>자산총계</td>\n",
              "      <td>18966.0</td>\n",
              "    </tr>\n",
              "    <tr>\n",
              "      <th>11</th>\n",
              "      <td>하림</td>\n",
              "      <td>자산총계</td>\n",
              "      <td>8550.0</td>\n",
              "    </tr>\n",
              "    <tr>\n",
              "      <th>12</th>\n",
              "      <td>하이트진로</td>\n",
              "      <td>EPS(원)</td>\n",
              "      <td>453.0</td>\n",
              "    </tr>\n",
              "    <tr>\n",
              "      <th>13</th>\n",
              "      <td>보해양조</td>\n",
              "      <td>EPS(원)</td>\n",
              "      <td>3.0</td>\n",
              "    </tr>\n",
              "    <tr>\n",
              "      <th>14</th>\n",
              "      <td>롯데칠성</td>\n",
              "      <td>EPS(원)</td>\n",
              "      <td>1682.0</td>\n",
              "    </tr>\n",
              "    <tr>\n",
              "      <th>15</th>\n",
              "      <td>마니커</td>\n",
              "      <td>EPS(원)</td>\n",
              "      <td>-61.0</td>\n",
              "    </tr>\n",
              "    <tr>\n",
              "      <th>16</th>\n",
              "      <td>이지홀딩스</td>\n",
              "      <td>EPS(원)</td>\n",
              "      <td>1168.0</td>\n",
              "    </tr>\n",
              "    <tr>\n",
              "      <th>17</th>\n",
              "      <td>하림</td>\n",
              "      <td>EPS(원)</td>\n",
              "      <td>62.0</td>\n",
              "    </tr>\n",
              "  </tbody>\n",
              "</table>\n",
              "</div>"
            ],
            "text/plain": [
              "      종목명 Feature    Value\n",
              "0   하이트진로     매출액   6243.0\n",
              "1    보해양조     매출액    205.0\n",
              "2    롯데칠성     매출액   5980.0\n",
              "3     마니커     매출액    521.0\n",
              "4   이지홀딩스     매출액   4108.0\n",
              "5      하림     매출액   2613.0\n",
              "6   하이트진로    자산총계  39617.0\n",
              "7    보해양조    자산총계   1555.0\n",
              "8    롯데칠성    자산총계  34066.0\n",
              "9     마니커    자산총계   1897.0\n",
              "10  이지홀딩스    자산총계  18966.0\n",
              "11     하림    자산총계   8550.0\n",
              "12  하이트진로  EPS(원)    453.0\n",
              "13   보해양조  EPS(원)      3.0\n",
              "14   롯데칠성  EPS(원)   1682.0\n",
              "15    마니커  EPS(원)    -61.0\n",
              "16  이지홀딩스  EPS(원)   1168.0\n",
              "17     하림  EPS(원)     62.0"
            ]
          },
          "metadata": {
            "tags": []
          },
          "execution_count": 8
        }
      ]
    },
    {
      "cell_type": "code",
      "metadata": {
        "colab": {
          "base_uri": "https://localhost:8080/",
          "height": 266
        },
        "id": "augPVvI-vUgO",
        "outputId": "5d4c74da-5b9b-42c4-b3af-6abc5c49b616"
      },
      "source": [
        "wide = df_tidy.pivot_table(index = \"종목명\", columns = \"Feature\", values = \"Value\")\n",
        "wide"
      ],
      "execution_count": 9,
      "outputs": [
        {
          "output_type": "execute_result",
          "data": {
            "text/html": [
              "<div>\n",
              "<style scoped>\n",
              "    .dataframe tbody tr th:only-of-type {\n",
              "        vertical-align: middle;\n",
              "    }\n",
              "\n",
              "    .dataframe tbody tr th {\n",
              "        vertical-align: top;\n",
              "    }\n",
              "\n",
              "    .dataframe thead th {\n",
              "        text-align: right;\n",
              "    }\n",
              "</style>\n",
              "<table border=\"1\" class=\"dataframe\">\n",
              "  <thead>\n",
              "    <tr style=\"text-align: right;\">\n",
              "      <th>Feature</th>\n",
              "      <th>EPS(원)</th>\n",
              "      <th>매출액</th>\n",
              "      <th>자산총계</th>\n",
              "    </tr>\n",
              "    <tr>\n",
              "      <th>종목명</th>\n",
              "      <th></th>\n",
              "      <th></th>\n",
              "      <th></th>\n",
              "    </tr>\n",
              "  </thead>\n",
              "  <tbody>\n",
              "    <tr>\n",
              "      <th>롯데칠성</th>\n",
              "      <td>1682.0</td>\n",
              "      <td>5980.0</td>\n",
              "      <td>34066.0</td>\n",
              "    </tr>\n",
              "    <tr>\n",
              "      <th>마니커</th>\n",
              "      <td>-61.0</td>\n",
              "      <td>521.0</td>\n",
              "      <td>1897.0</td>\n",
              "    </tr>\n",
              "    <tr>\n",
              "      <th>보해양조</th>\n",
              "      <td>3.0</td>\n",
              "      <td>205.0</td>\n",
              "      <td>1555.0</td>\n",
              "    </tr>\n",
              "    <tr>\n",
              "      <th>이지홀딩스</th>\n",
              "      <td>1168.0</td>\n",
              "      <td>4108.0</td>\n",
              "      <td>18966.0</td>\n",
              "    </tr>\n",
              "    <tr>\n",
              "      <th>하림</th>\n",
              "      <td>62.0</td>\n",
              "      <td>2613.0</td>\n",
              "      <td>8550.0</td>\n",
              "    </tr>\n",
              "    <tr>\n",
              "      <th>하이트진로</th>\n",
              "      <td>453.0</td>\n",
              "      <td>6243.0</td>\n",
              "      <td>39617.0</td>\n",
              "    </tr>\n",
              "  </tbody>\n",
              "</table>\n",
              "</div>"
            ],
            "text/plain": [
              "Feature  EPS(원)     매출액     자산총계\n",
              "종목명                             \n",
              "롯데칠성     1682.0  5980.0  34066.0\n",
              "마니커       -61.0   521.0   1897.0\n",
              "보해양조        3.0   205.0   1555.0\n",
              "이지홀딩스    1168.0  4108.0  18966.0\n",
              "하림         62.0  2613.0   8550.0\n",
              "하이트진로     453.0  6243.0  39617.0"
            ]
          },
          "metadata": {
            "tags": []
          },
          "execution_count": 9
        }
      ]
    },
    {
      "cell_type": "code",
      "metadata": {
        "colab": {
          "base_uri": "https://localhost:8080/"
        },
        "id": "jOTX-wqS0hE8",
        "outputId": "2667d2c4-8ab8-4e7f-8dbd-62c49501aba1"
      },
      "source": [
        "!sudo apt-get install -y fonts-nanum\n",
        "!sudo fc-cache -fv\n",
        "!rm ~/.cache/matplotlib -rf\n"
      ],
      "execution_count": 10,
      "outputs": [
        {
          "output_type": "stream",
          "text": [
            "Reading package lists... Done\n",
            "Building dependency tree       \n",
            "Reading state information... Done\n",
            "fonts-nanum is already the newest version (20170925-1).\n",
            "The following package was automatically installed and is no longer required:\n",
            "  libnvidia-common-460\n",
            "Use 'sudo apt autoremove' to remove it.\n",
            "0 upgraded, 0 newly installed, 0 to remove and 34 not upgraded.\n",
            "/usr/share/fonts: caching, new cache contents: 0 fonts, 1 dirs\n",
            "/usr/share/fonts/truetype: caching, new cache contents: 0 fonts, 3 dirs\n",
            "/usr/share/fonts/truetype/humor-sans: caching, new cache contents: 1 fonts, 0 dirs\n",
            "/usr/share/fonts/truetype/liberation: caching, new cache contents: 16 fonts, 0 dirs\n",
            "/usr/share/fonts/truetype/nanum: caching, new cache contents: 10 fonts, 0 dirs\n",
            "/usr/local/share/fonts: caching, new cache contents: 0 fonts, 0 dirs\n",
            "/root/.local/share/fonts: skipping, no such directory\n",
            "/root/.fonts: skipping, no such directory\n",
            "/var/cache/fontconfig: cleaning cache directory\n",
            "/root/.cache/fontconfig: not cleaning non-existent cache directory\n",
            "/root/.fontconfig: not cleaning non-existent cache directory\n",
            "fc-cache: succeeded\n"
          ],
          "name": "stdout"
        }
      ]
    },
    {
      "cell_type": "code",
      "metadata": {
        "colab": {
          "base_uri": "https://localhost:8080/"
        },
        "id": "3SUC_Qx14Mj5",
        "outputId": "a091ec1f-bdb4-4b11-d15d-98c86a30bf54"
      },
      "source": [
        "import matplotlib.font_manager as fm\n",
        "\n",
        "# 설치된 폰트 출력\n",
        "font_list = [font.name for font in fm.fontManager.ttflist]\n",
        "font_list"
      ],
      "execution_count": 11,
      "outputs": [
        {
          "output_type": "execute_result",
          "data": {
            "text/plain": [
              "['DejaVu Serif',\n",
              " 'STIXSizeTwoSym',\n",
              " 'DejaVu Sans Mono',\n",
              " 'STIXNonUnicode',\n",
              " 'DejaVu Sans Mono',\n",
              " 'DejaVu Sans Mono',\n",
              " 'STIXSizeFourSym',\n",
              " 'cmsy10',\n",
              " 'DejaVu Sans Display',\n",
              " 'cmex10',\n",
              " 'DejaVu Sans',\n",
              " 'STIXSizeOneSym',\n",
              " 'STIXNonUnicode',\n",
              " 'STIXGeneral',\n",
              " 'DejaVu Sans',\n",
              " 'DejaVu Serif',\n",
              " 'STIXGeneral',\n",
              " 'STIXSizeFiveSym',\n",
              " 'STIXGeneral',\n",
              " 'DejaVu Sans Mono',\n",
              " 'STIXSizeOneSym',\n",
              " 'STIXSizeThreeSym',\n",
              " 'DejaVu Serif',\n",
              " 'cmss10',\n",
              " 'STIXSizeTwoSym',\n",
              " 'DejaVu Serif',\n",
              " 'cmmi10',\n",
              " 'STIXNonUnicode',\n",
              " 'cmtt10',\n",
              " 'DejaVu Sans',\n",
              " 'STIXNonUnicode',\n",
              " 'STIXSizeThreeSym',\n",
              " 'cmr10',\n",
              " 'DejaVu Sans',\n",
              " 'STIXSizeFourSym',\n",
              " 'cmb10',\n",
              " 'STIXGeneral',\n",
              " 'DejaVu Serif Display',\n",
              " 'Liberation Mono',\n",
              " 'Liberation Sans',\n",
              " 'NanumSquare',\n",
              " 'NanumBarunGothic',\n",
              " 'NanumSquareRound',\n",
              " 'NanumBarunGothic',\n",
              " 'Liberation Sans Narrow',\n",
              " 'Liberation Sans',\n",
              " 'NanumSquare',\n",
              " 'Liberation Sans Narrow',\n",
              " 'Liberation Mono',\n",
              " 'NanumGothic',\n",
              " 'Liberation Sans',\n",
              " 'Liberation Sans Narrow',\n",
              " 'NanumMyeongjo',\n",
              " 'Liberation Mono',\n",
              " 'Liberation Serif',\n",
              " 'NanumMyeongjo',\n",
              " 'NanumSquareRound',\n",
              " 'Liberation Serif',\n",
              " 'Liberation Serif',\n",
              " 'Liberation Serif',\n",
              " 'Liberation Sans Narrow',\n",
              " 'Humor Sans',\n",
              " 'Liberation Mono',\n",
              " 'Liberation Sans',\n",
              " 'NanumGothic']"
            ]
          },
          "metadata": {
            "tags": []
          },
          "execution_count": 11
        }
      ]
    },
    {
      "cell_type": "code",
      "metadata": {
        "colab": {
          "base_uri": "https://localhost:8080/",
          "height": 334
        },
        "id": "pmbZuike3u9P",
        "outputId": "ae3d1afd-561a-451f-8756-5cba9b574e44"
      },
      "source": [
        "import matplotlib.pyplot as plt\n",
        "plt.rc('font', family='NanumBarunGothic')\n",
        "plt.rc('axes', unicode_minus=False)\n",
        "plt.rcParams['font.size'] = 15\n",
        "plt.xticks(rotation = 45 )\n",
        "\n",
        "sns.boxplot(data = df_tidy, x = '종목명', y = 'Value');\n"
      ],
      "execution_count": 12,
      "outputs": [
        {
          "output_type": "display_data",
          "data": {
            "image/png": "[encoded data removed]",
            "text/plain": [
              "<Figure size 432x288 with 1 Axes>"
            ]
          },
          "metadata": {
            "tags": [],
            "needs_background": "light"
          }
        }
      ]
    },
    {
      "cell_type": "code",
      "metadata": {
        "id": "ZhvfZ2SF0FIi"
      },
      "source": [
        "res = 6"
      ],
      "execution_count": 13,
      "outputs": []
    },
    {
      "cell_type": "markdown",
      "metadata": {
        "id": "8Yscu0NtMmRM"
      },
      "source": [
        "## 3. Merge & Join +\n",
        "\n",
        "pandas merge의 options중 how 에는 여러가지 옵션들이 있습니다.\n",
        "\n",
        "공식 레퍼런스를 검색, 참조하여\n",
        "\n",
        "아래 코드를 바탕으로 \n",
        "\n",
        "다음과 같은 결과물을 만드는 코드를 작성하세요\n",
        "\n",
        "변수의 이름은 `df2` 입니다.\n",
        "\n",
        "|key1|key2|A|B|C|D|\n",
        "|:-:|:-:|:-:|:-:|:-:|:-:|\n",
        "|K0|K0|A0|B0|C0|D0|\n",
        "|K0|K1|A1|B1|NaN|NaN|\n",
        "|K1|K0|A2|B2|C1|D1|\n",
        "|K1|K0|A2|B2|C2|D2|\n",
        "|K2|K1|A3|B3|NaN|NaN|\n",
        "\n",
        "\n",
        "\n"
      ]
    },
    {
      "cell_type": "code",
      "metadata": {
        "id": "DlrGYjByMvn6"
      },
      "source": [
        "import pandas as pd\n",
        "\n",
        "left = pd.DataFrame({'key1': ['K0', 'K0', 'K1', 'K2'],\n",
        "                     'key2': ['K0', 'K1', 'K0', 'K1'],\n",
        "                     'A': ['A0', 'A1', 'A2', 'A3'],\n",
        "                     'B': ['B0', 'B1', 'B2', 'B3']})\n",
        "\n",
        "right = pd.DataFrame({'key1': ['K0', 'K1', 'K1', 'K2'],\n",
        "                      'key2': ['K0', 'K0', 'K0', 'K0'],\n",
        "                      'C': ['C0', 'C1', 'C2', 'C3'],\n",
        "                      'D': ['D0', 'D1', 'D2', 'D3']})"
      ],
      "execution_count": 14,
      "outputs": []
    },
    {
      "cell_type": "code",
      "metadata": {
        "colab": {
          "base_uri": "https://localhost:8080/",
          "height": 173
        },
        "id": "yX-0PJ-G6u_s",
        "outputId": "96018a9a-a2d1-4d36-fa10-e6d2ef1f6b2a"
      },
      "source": [
        "left"
      ],
      "execution_count": 15,
      "outputs": [
        {
          "output_type": "execute_result",
          "data": {
            "text/html": [
              "<div>\n",
              "<style scoped>\n",
              "    .dataframe tbody tr th:only-of-type {\n",
              "        vertical-align: middle;\n",
              "    }\n",
              "\n",
              "    .dataframe tbody tr th {\n",
              "        vertical-align: top;\n",
              "    }\n",
              "\n",
              "    .dataframe thead th {\n",
              "        text-align: right;\n",
              "    }\n",
              "</style>\n",
              "<table border=\"1\" class=\"dataframe\">\n",
              "  <thead>\n",
              "    <tr style=\"text-align: right;\">\n",
              "      <th></th>\n",
              "      <th>key1</th>\n",
              "      <th>key2</th>\n",
              "      <th>A</th>\n",
              "      <th>B</th>\n",
              "    </tr>\n",
              "  </thead>\n",
              "  <tbody>\n",
              "    <tr>\n",
              "      <th>0</th>\n",
              "      <td>K0</td>\n",
              "      <td>K0</td>\n",
              "      <td>A0</td>\n",
              "      <td>B0</td>\n",
              "    </tr>\n",
              "    <tr>\n",
              "      <th>1</th>\n",
              "      <td>K0</td>\n",
              "      <td>K1</td>\n",
              "      <td>A1</td>\n",
              "      <td>B1</td>\n",
              "    </tr>\n",
              "    <tr>\n",
              "      <th>2</th>\n",
              "      <td>K1</td>\n",
              "      <td>K0</td>\n",
              "      <td>A2</td>\n",
              "      <td>B2</td>\n",
              "    </tr>\n",
              "    <tr>\n",
              "      <th>3</th>\n",
              "      <td>K2</td>\n",
              "      <td>K1</td>\n",
              "      <td>A3</td>\n",
              "      <td>B3</td>\n",
              "    </tr>\n",
              "  </tbody>\n",
              "</table>\n",
              "</div>"
            ],
            "text/plain": [
              "  key1 key2   A   B\n",
              "0   K0   K0  A0  B0\n",
              "1   K0   K1  A1  B1\n",
              "2   K1   K0  A2  B2\n",
              "3   K2   K1  A3  B3"
            ]
          },
          "metadata": {
            "tags": []
          },
          "execution_count": 15
        }
      ]
    },
    {
      "cell_type": "code",
      "metadata": {
        "colab": {
          "base_uri": "https://localhost:8080/",
          "height": 173
        },
        "id": "o65oW7Zh6yQr",
        "outputId": "6db91474-e967-48b9-eb8a-04f8befae5f2"
      },
      "source": [
        "right"
      ],
      "execution_count": 16,
      "outputs": [
        {
          "output_type": "execute_result",
          "data": {
            "text/html": [
              "<div>\n",
              "<style scoped>\n",
              "    .dataframe tbody tr th:only-of-type {\n",
              "        vertical-align: middle;\n",
              "    }\n",
              "\n",
              "    .dataframe tbody tr th {\n",
              "        vertical-align: top;\n",
              "    }\n",
              "\n",
              "    .dataframe thead th {\n",
              "        text-align: right;\n",
              "    }\n",
              "</style>\n",
              "<table border=\"1\" class=\"dataframe\">\n",
              "  <thead>\n",
              "    <tr style=\"text-align: right;\">\n",
              "      <th></th>\n",
              "      <th>key1</th>\n",
              "      <th>key2</th>\n",
              "      <th>C</th>\n",
              "      <th>D</th>\n",
              "    </tr>\n",
              "  </thead>\n",
              "  <tbody>\n",
              "    <tr>\n",
              "      <th>0</th>\n",
              "      <td>K0</td>\n",
              "      <td>K0</td>\n",
              "      <td>C0</td>\n",
              "      <td>D0</td>\n",
              "    </tr>\n",
              "    <tr>\n",
              "      <th>1</th>\n",
              "      <td>K1</td>\n",
              "      <td>K0</td>\n",
              "      <td>C1</td>\n",
              "      <td>D1</td>\n",
              "    </tr>\n",
              "    <tr>\n",
              "      <th>2</th>\n",
              "      <td>K1</td>\n",
              "      <td>K0</td>\n",
              "      <td>C2</td>\n",
              "      <td>D2</td>\n",
              "    </tr>\n",
              "    <tr>\n",
              "      <th>3</th>\n",
              "      <td>K2</td>\n",
              "      <td>K0</td>\n",
              "      <td>C3</td>\n",
              "      <td>D3</td>\n",
              "    </tr>\n",
              "  </tbody>\n",
              "</table>\n",
              "</div>"
            ],
            "text/plain": [
              "  key1 key2   C   D\n",
              "0   K0   K0  C0  D0\n",
              "1   K1   K0  C1  D1\n",
              "2   K1   K0  C2  D2\n",
              "3   K2   K0  C3  D3"
            ]
          },
          "metadata": {
            "tags": []
          },
          "execution_count": 16
        }
      ]
    },
    {
      "cell_type": "code",
      "metadata": {
        "colab": {
          "base_uri": "https://localhost:8080/",
          "height": 204
        },
        "id": "53-VrJ9E7GLV",
        "outputId": "20603bd1-8e29-484c-c0b2-b607772bb016"
      },
      "source": [
        "\n",
        "df2 = left.merge(right, how = \"left\", on = [\"key1\", \"key2\"])\n",
        "df2"
      ],
      "execution_count": 17,
      "outputs": [
        {
          "output_type": "execute_result",
          "data": {
            "text/html": [
              "<div>\n",
              "<style scoped>\n",
              "    .dataframe tbody tr th:only-of-type {\n",
              "        vertical-align: middle;\n",
              "    }\n",
              "\n",
              "    .dataframe tbody tr th {\n",
              "        vertical-align: top;\n",
              "    }\n",
              "\n",
              "    .dataframe thead th {\n",
              "        text-align: right;\n",
              "    }\n",
              "</style>\n",
              "<table border=\"1\" class=\"dataframe\">\n",
              "  <thead>\n",
              "    <tr style=\"text-align: right;\">\n",
              "      <th></th>\n",
              "      <th>key1</th>\n",
              "      <th>key2</th>\n",
              "      <th>A</th>\n",
              "      <th>B</th>\n",
              "      <th>C</th>\n",
              "      <th>D</th>\n",
              "    </tr>\n",
              "  </thead>\n",
              "  <tbody>\n",
              "    <tr>\n",
              "      <th>0</th>\n",
              "      <td>K0</td>\n",
              "      <td>K0</td>\n",
              "      <td>A0</td>\n",
              "      <td>B0</td>\n",
              "      <td>C0</td>\n",
              "      <td>D0</td>\n",
              "    </tr>\n",
              "    <tr>\n",
              "      <th>1</th>\n",
              "      <td>K0</td>\n",
              "      <td>K1</td>\n",
              "      <td>A1</td>\n",
              "      <td>B1</td>\n",
              "      <td>NaN</td>\n",
              "      <td>NaN</td>\n",
              "    </tr>\n",
              "    <tr>\n",
              "      <th>2</th>\n",
              "      <td>K1</td>\n",
              "      <td>K0</td>\n",
              "      <td>A2</td>\n",
              "      <td>B2</td>\n",
              "      <td>C1</td>\n",
              "      <td>D1</td>\n",
              "    </tr>\n",
              "    <tr>\n",
              "      <th>3</th>\n",
              "      <td>K1</td>\n",
              "      <td>K0</td>\n",
              "      <td>A2</td>\n",
              "      <td>B2</td>\n",
              "      <td>C2</td>\n",
              "      <td>D2</td>\n",
              "    </tr>\n",
              "    <tr>\n",
              "      <th>4</th>\n",
              "      <td>K2</td>\n",
              "      <td>K1</td>\n",
              "      <td>A3</td>\n",
              "      <td>B3</td>\n",
              "      <td>NaN</td>\n",
              "      <td>NaN</td>\n",
              "    </tr>\n",
              "  </tbody>\n",
              "</table>\n",
              "</div>"
            ],
            "text/plain": [
              "  key1 key2   A   B    C    D\n",
              "0   K0   K0  A0  B0   C0   D0\n",
              "1   K0   K1  A1  B1  NaN  NaN\n",
              "2   K1   K0  A2  B2   C1   D1\n",
              "3   K1   K0  A2  B2   C2   D2\n",
              "4   K2   K1  A3  B3  NaN  NaN"
            ]
          },
          "metadata": {
            "tags": []
          },
          "execution_count": 17
        }
      ]
    },
    {
      "cell_type": "markdown",
      "metadata": {
        "id": "en0Q_b5L4fxA"
      },
      "source": [
        "## Grading\n",
        "\n",
        "이전 과제를 완료했다면, 아래의 코드를 실행하세요. "
      ]
    },
    {
      "cell_type": "code",
      "metadata": {
        "colab": {
          "base_uri": "https://localhost:8080/"
        },
        "id": "BE1v_yg37xaA",
        "outputId": "204fe989-e1a4-4e77-8ea1-5c9af3b41de3"
      },
      "source": [
        "import numpy as np\n",
        "print(df['매출액'][2] == 5980)\n",
        "print(df['자산총계'][3] == 1897)   \n",
        "print(df2.equals(pd.DataFrame({\n",
        "    'key1' : ['K0', 'K0', 'K1', 'K1', 'K2'],\n",
        "    'key2' : ['K0', 'K1', 'K0', 'K0', 'K1'],\n",
        "    'A' : ['A0', 'A1', 'A2', 'A2', 'A3'],\n",
        "    'B' : ['B0', 'B1', 'B2', 'B2', 'B3'],\n",
        "    'C' : ['C0', np.NaN, 'C1', 'C2', np.NaN],\n",
        "    'D' : ['D0', np.NaN, 'D1', 'D2', np.NaN],\n",
        "  }))) \n",
        "print(res == 6)\n",
        "print(round(df_tidy['Value'].mean(), 3) == 7090.444)\n"
      ],
      "execution_count": 18,
      "outputs": [
        {
          "output_type": "stream",
          "text": [
            "True\n",
            "True\n",
            "True\n",
            "True\n",
            "True\n"
          ],
          "name": "stdout"
        }
      ]
    },
    {
      "cell_type": "code",
      "metadata": {
        "id": "1k3zn-YV4fdg"
      },
      "source": [
        "import numpy as np\n",
        "\n",
        "def grade(df, df2, df_tidy, res):\n",
        "  score = 0\n",
        "  score += (df['매출액'][2] == 5980)\n",
        "  score += (df['자산총계'][3] == 1897)   \n",
        "  score += (df2.equals(pd.DataFrame({\n",
        "    'key1' : ['K0', 'K0', 'K1', 'K1', 'K2'],\n",
        "    'key2' : ['K0', 'K1', 'K0', 'K0', 'K1'],\n",
        "    'A' : ['A0', 'A1', 'A2', 'A2', 'A3'],\n",
        "    'B' : ['B0', 'B1', 'B2', 'B2', 'B3'],\n",
        "    'C' : ['C0', np.NaN, 'C1', 'C2', np.NaN],\n",
        "    'D' : ['D0', np.NaN, 'D1', 'D2', np.NaN],\n",
        "  }))) \n",
        "  score += (res == 6)\n",
        "  score += (round(df_tidy['Value'].mean(), 3) == 7090.444)\n",
        "  return(score)"
      ],
      "execution_count": 19,
      "outputs": []
    },
    {
      "cell_type": "code",
      "metadata": {
        "id": "nj_RslFn4lCM",
        "colab": {
          "base_uri": "https://localhost:8080/"
        },
        "outputId": "ed75f4d0-4b97-4143-cc20-a800591cf033"
      },
      "source": [
        "grade(df, df2, df_tidy, res)"
      ],
      "execution_count": 20,
      "outputs": [
        {
          "output_type": "execute_result",
          "data": {
            "text/plain": [
              "5"
            ]
          },
          "metadata": {
            "tags": []
          },
          "execution_count": 20
        }
      ]
    },
    {
      "cell_type": "markdown",
      "metadata": {
        "id": "mnOuqL9K0dqh"
      },
      "source": [
        "## 🔥 도전과제"
      ]
    },
    {
      "cell_type": "markdown",
      "metadata": {
        "id": "GboSqR1qRoTO"
      },
      "source": [
        "아래 링크들을 참조하여, \n",
        "특정 테마별로 포함되어 있는 종목의 데이터를 직접 csv형태로 수집하고 (아래 적힌 3개씩)\n",
        "\n",
        "<https://finance.naver.com/sise/sise_group_detail.nhn?type=theme&no=408>\n",
        "\n",
        "<https://finance.naver.com/sise/sise_group_detail.nhn?type=theme&no=36>\n",
        "\n",
        "- 최종 분기에 해당하는 데이터\n",
        "\n",
        "- 테마별 평균 데이터를 결과물로 만드는 코드를 작성하세요.\n",
        "\n",
        "단, 모든 feature에 대해서가 아닌\n",
        "\n",
        "- 매출액\n",
        "- 자본총계\n",
        "- EPS\n",
        "\n",
        "에 대해서만 하면 됩니다.\n",
        "\n",
        "|종목명|매출액|자본총계|EPS|\n",
        "|:-:|:-:|:-:|:-:|\n",
        "|대한해운|...|...|...|...|\n",
        "|팬오션|...|...|...|...|\n",
        "|KSS해운|...|...|...|...|\n",
        "|세미콘라이트|...|...|...|...|\n",
        "|오성첨단소재|...|...|...|...|\n",
        "|에이아이비트|...|...|...|...|\n",
        "\n",
        "---\n",
        "\n",
        "|테마|매출액|자본총계|EPS|\n",
        "|:-:|:-:|:-:|:-:|\n",
        "|해운|...|...|...|\n",
        "|마리화나(대마)|...|...|...|\n",
        "\n",
        "이후 아래의 예시 처럼 seaborn을 사용하여 결과를 barplot으로 시각화하세요.\n",
        "\n",
        "단, 한글이 깨지는 에러를 여러분이 직접 고쳐야합니다."
      ]
    },
    {
      "cell_type": "code",
      "metadata": {
        "id": "B-QNMrVkYap4"
      },
      "source": [
        "import pandas as pd\n",
        "import seaborn as sns\n",
        "\n",
        "dat = pd.DataFrame({\n",
        "    'name' : ['해운', '대마'],\n",
        "    'value' : [10000,5000]\n",
        "})"
      ],
      "execution_count": 21,
      "outputs": []
    },
    {
      "cell_type": "code",
      "metadata": {
        "id": "gAqW4e88Uw6W",
        "colab": {
          "base_uri": "https://localhost:8080/",
          "height": 291
        },
        "outputId": "62e112cd-135a-48ee-bc3d-63570590ac10"
      },
      "source": [
        "sns.barplot(x = 'name', y = 'value', data = dat);"
      ],
      "execution_count": 22,
      "outputs": [
        {
          "output_type": "display_data",
          "data": {
            "image/png": "[encoded data removed]",
            "text/plain": [
              "<Figure size 432x288 with 1 Axes>"
            ]
          },
          "metadata": {
            "tags": [],
            "needs_background": "light"
          }
        }
      ]
    },
    {
      "cell_type": "code",
      "metadata": {
        "id": "oQAQ30DkY1DA",
        "colab": {
          "base_uri": "https://localhost:8080/",
          "height": 235
        },
        "outputId": "51f1d9ef-01e2-48f4-f142-8772fafe1205"
      },
      "source": [
        "import pandas as pd \n",
        "\n",
        "\n",
        "def company(code, name, cap):\n",
        "  # 웹 크롤링해서 해당 종목 재무제표 가져오기\n",
        "    url_tmpl = 'https://finance.naver.com/item/main.nhn?code=%s' \n",
        "    url = url_tmpl % (code)\n",
        "    tables = pd.read_html(url, encoding='euc-kr') \n",
        "    code = tables[3]\n",
        "\n",
        "# 행/열 바꾸기, 헤더 지정하기, 특정 칼럼 추출하기\n",
        "    code = code.T\n",
        "    new_header = code.iloc[0]\n",
        "    code = code[1:]\n",
        "    code.columns = new_header\n",
        "    code = code[[\"매출액\", \"EPS(원)\"]]\n",
        "    \n",
        "# 2020.12 분기의 데이터만 추출하기\n",
        "# 해당 데이터는 멀티 인덱스로 되어 있어서 각각의 인덱스 명 지정해서 추출\n",
        "    code = code.loc[\"최근 분기 실적\", \"2020.12\",:]\n",
        "\n",
        "# 인덱스 재설정\n",
        "    code = code.reset_index(drop=True)\n",
        "# 칼럼 설정\n",
        "    code.columns = [\"매출액\", \"EPS(원)\"]\n",
        "# 종목명 & 자본총계 추가\n",
        "    c_name = pd.DataFrame({\"종목명\" : [name]})\n",
        "    code = pd.concat([c_name, code], axis=1)\n",
        "    c_cap = pd.DataFrame({\"자본총계\" : [cap]})\n",
        "    code = pd.concat([code, c_cap], axis=1)\n",
        "    \n",
        "    return code\n",
        "\n",
        "# 함수로 각각의 데이터 만들기\n",
        "com1 = company('005880', \"대한해운\", '8533')\n",
        "com2 = company('028670', \"팬오션\", '28067')\n",
        "com3 = company('044450', \"KSS해운\", '2689')\n",
        "com4 = company('214310', \"에스엘바이오닉스\", '470')\n",
        "com5 = company('052420', \"오성첨단소재\", '1944')\n",
        "com6 = company('039230', \"에이아이비트\", '453')\n",
        "\n",
        "# 하나의 데이터 프레임으로 만들기\n",
        "com = pd.concat([com1, com2, com3, com4, com5, com6])\n",
        "com = com.reset_index(drop=True)\n",
        "com\n",
        "\n",
        "\n"
      ],
      "execution_count": 23,
      "outputs": [
        {
          "output_type": "execute_result",
          "data": {
            "text/html": [
              "<div>\n",
              "<style scoped>\n",
              "    .dataframe tbody tr th:only-of-type {\n",
              "        vertical-align: middle;\n",
              "    }\n",
              "\n",
              "    .dataframe tbody tr th {\n",
              "        vertical-align: top;\n",
              "    }\n",
              "\n",
              "    .dataframe thead th {\n",
              "        text-align: right;\n",
              "    }\n",
              "</style>\n",
              "<table border=\"1\" class=\"dataframe\">\n",
              "  <thead>\n",
              "    <tr style=\"text-align: right;\">\n",
              "      <th></th>\n",
              "      <th>종목명</th>\n",
              "      <th>매출액</th>\n",
              "      <th>EPS(원)</th>\n",
              "      <th>자본총계</th>\n",
              "    </tr>\n",
              "  </thead>\n",
              "  <tbody>\n",
              "    <tr>\n",
              "      <th>0</th>\n",
              "      <td>대한해운</td>\n",
              "      <td>2222</td>\n",
              "      <td>23</td>\n",
              "      <td>8533</td>\n",
              "    </tr>\n",
              "    <tr>\n",
              "      <th>1</th>\n",
              "      <td>팬오션</td>\n",
              "      <td>6205</td>\n",
              "      <td>-26</td>\n",
              "      <td>28067</td>\n",
              "    </tr>\n",
              "    <tr>\n",
              "      <th>2</th>\n",
              "      <td>KSS해운</td>\n",
              "      <td>546</td>\n",
              "      <td>-237</td>\n",
              "      <td>2689</td>\n",
              "    </tr>\n",
              "    <tr>\n",
              "      <th>3</th>\n",
              "      <td>에스엘바이오닉스</td>\n",
              "      <td>66</td>\n",
              "      <td>-363</td>\n",
              "      <td>470</td>\n",
              "    </tr>\n",
              "    <tr>\n",
              "      <th>4</th>\n",
              "      <td>오성첨단소재</td>\n",
              "      <td>184</td>\n",
              "      <td>8</td>\n",
              "      <td>1944</td>\n",
              "    </tr>\n",
              "    <tr>\n",
              "      <th>5</th>\n",
              "      <td>에이아이비트</td>\n",
              "      <td>57</td>\n",
              "      <td>-187</td>\n",
              "      <td>453</td>\n",
              "    </tr>\n",
              "  </tbody>\n",
              "</table>\n",
              "</div>"
            ],
            "text/plain": [
              "        종목명   매출액 EPS(원)   자본총계\n",
              "0      대한해운  2222     23   8533\n",
              "1       팬오션  6205    -26  28067\n",
              "2     KSS해운   546   -237   2689\n",
              "3  에스엘바이오닉스    66   -363    470\n",
              "4    오성첨단소재   184      8   1944\n",
              "5    에이아이비트    57   -187    453"
            ]
          },
          "metadata": {
            "tags": []
          },
          "execution_count": 23
        }
      ]
    },
    {
      "cell_type": "code",
      "metadata": {
        "colab": {
          "base_uri": "https://localhost:8080/",
          "height": 142
        },
        "id": "nh01Q0lgECtn",
        "outputId": "05ea7c10-e412-4ce4-d7b5-871918b98ea3"
      },
      "source": [
        "# 해운 업종의 데이터\n",
        "sea_r = pd.concat([com1, com2, com3])\n",
        "sea_r = sea_r.reset_index(drop=True)\n",
        "sea_r = sea_r.astype({\"매출액\" : float, \"자본총계\" : float, \"EPS(원)\" : float})\n",
        "\n",
        "# 대마 업종의 데이터\n",
        "mar_r = pd.concat([com4, com5, com6])\n",
        "mar_r = mar_r.reset_index(drop=True)\n",
        "mar_r = mar_r.astype({\"매출액\" : float, \"자본총계\" : float, \"EPS(원)\" : float})\n",
        "\n",
        "# 해운 업종 mean값\n",
        "sea = pd.DataFrame({\n",
        "                    \"평균 매출액\" : [sea_r[\"매출액\"].mean()],\n",
        "                    \"평균 EPS(원)\" : [sea_r[\"EPS(원)\"].mean()],\n",
        "                    \"평균 자본총계\" : [sea_r[\"자본총계\"].mean()]})\n",
        "\n",
        "# 대마 업종 mean값\n",
        "mar = pd.DataFrame({\"평균 매출액\" : [mar_r[\"매출액\"].mean()],\n",
        "                    \"평균 EPS(원)\" : [mar_r[\"EPS(원)\"].mean()],\n",
        "                    \"평균 자본총계\" : [mar_r[\"자본총계\"].mean()]})\n",
        "\n",
        "# 합치기 & 종목명 추가 & 종목명 인덱스 지정\n",
        "sea_mar = pd.concat([sea, mar])\n",
        "\n",
        "sea_mar.insert(0, \"종목명\", [\"해운\", \"대마\"])\n",
        "sea_mar.set_index(\"종목명\")\n"
      ],
      "execution_count": 24,
      "outputs": [
        {
          "output_type": "execute_result",
          "data": {
            "text/html": [
              "<div>\n",
              "<style scoped>\n",
              "    .dataframe tbody tr th:only-of-type {\n",
              "        vertical-align: middle;\n",
              "    }\n",
              "\n",
              "    .dataframe tbody tr th {\n",
              "        vertical-align: top;\n",
              "    }\n",
              "\n",
              "    .dataframe thead th {\n",
              "        text-align: right;\n",
              "    }\n",
              "</style>\n",
              "<table border=\"1\" class=\"dataframe\">\n",
              "  <thead>\n",
              "    <tr style=\"text-align: right;\">\n",
              "      <th></th>\n",
              "      <th>평균 매출액</th>\n",
              "      <th>평균 EPS(원)</th>\n",
              "      <th>평균 자본총계</th>\n",
              "    </tr>\n",
              "    <tr>\n",
              "      <th>종목명</th>\n",
              "      <th></th>\n",
              "      <th></th>\n",
              "      <th></th>\n",
              "    </tr>\n",
              "  </thead>\n",
              "  <tbody>\n",
              "    <tr>\n",
              "      <th>해운</th>\n",
              "      <td>2991.000000</td>\n",
              "      <td>-80.000000</td>\n",
              "      <td>13096.333333</td>\n",
              "    </tr>\n",
              "    <tr>\n",
              "      <th>대마</th>\n",
              "      <td>102.333333</td>\n",
              "      <td>-180.666667</td>\n",
              "      <td>955.666667</td>\n",
              "    </tr>\n",
              "  </tbody>\n",
              "</table>\n",
              "</div>"
            ],
            "text/plain": [
              "          평균 매출액   평균 EPS(원)       평균 자본총계\n",
              "종목명                                       \n",
              "해운   2991.000000  -80.000000  13096.333333\n",
              "대마    102.333333 -180.666667    955.666667"
            ]
          },
          "metadata": {
            "tags": []
          },
          "execution_count": 24
        }
      ]
    },
    {
      "cell_type": "code",
      "metadata": {
        "colab": {
          "base_uri": "https://localhost:8080/",
          "height": 235
        },
        "id": "_s2nU9-aFwCa",
        "outputId": "a773d951-fe4a-4486-874a-e95fa130ba40"
      },
      "source": [
        "import seaborn as sns\n",
        "\n",
        "# tidy 만들기\n",
        "sea_mar_tidy = sea_mar.melt(id_vars = \"종목명\", value_vars = [\"평균 매출액\", \"평균 EPS(원)\", \"평균 자본총계\"], var_name = \"Features\", value_name = \"Value\")\n",
        "\n",
        "sea_mar_tidy"
      ],
      "execution_count": 25,
      "outputs": [
        {
          "output_type": "execute_result",
          "data": {
            "text/html": [
              "<div>\n",
              "<style scoped>\n",
              "    .dataframe tbody tr th:only-of-type {\n",
              "        vertical-align: middle;\n",
              "    }\n",
              "\n",
              "    .dataframe tbody tr th {\n",
              "        vertical-align: top;\n",
              "    }\n",
              "\n",
              "    .dataframe thead th {\n",
              "        text-align: right;\n",
              "    }\n",
              "</style>\n",
              "<table border=\"1\" class=\"dataframe\">\n",
              "  <thead>\n",
              "    <tr style=\"text-align: right;\">\n",
              "      <th></th>\n",
              "      <th>종목명</th>\n",
              "      <th>Features</th>\n",
              "      <th>Value</th>\n",
              "    </tr>\n",
              "  </thead>\n",
              "  <tbody>\n",
              "    <tr>\n",
              "      <th>0</th>\n",
              "      <td>해운</td>\n",
              "      <td>평균 매출액</td>\n",
              "      <td>2991.000000</td>\n",
              "    </tr>\n",
              "    <tr>\n",
              "      <th>1</th>\n",
              "      <td>대마</td>\n",
              "      <td>평균 매출액</td>\n",
              "      <td>102.333333</td>\n",
              "    </tr>\n",
              "    <tr>\n",
              "      <th>2</th>\n",
              "      <td>해운</td>\n",
              "      <td>평균 EPS(원)</td>\n",
              "      <td>-80.000000</td>\n",
              "    </tr>\n",
              "    <tr>\n",
              "      <th>3</th>\n",
              "      <td>대마</td>\n",
              "      <td>평균 EPS(원)</td>\n",
              "      <td>-180.666667</td>\n",
              "    </tr>\n",
              "    <tr>\n",
              "      <th>4</th>\n",
              "      <td>해운</td>\n",
              "      <td>평균 자본총계</td>\n",
              "      <td>13096.333333</td>\n",
              "    </tr>\n",
              "    <tr>\n",
              "      <th>5</th>\n",
              "      <td>대마</td>\n",
              "      <td>평균 자본총계</td>\n",
              "      <td>955.666667</td>\n",
              "    </tr>\n",
              "  </tbody>\n",
              "</table>\n",
              "</div>"
            ],
            "text/plain": [
              "  종목명   Features         Value\n",
              "0  해운     평균 매출액   2991.000000\n",
              "1  대마     평균 매출액    102.333333\n",
              "2  해운  평균 EPS(원)    -80.000000\n",
              "3  대마  평균 EPS(원)   -180.666667\n",
              "4  해운    평균 자본총계  13096.333333\n",
              "5  대마    평균 자본총계    955.666667"
            ]
          },
          "metadata": {
            "tags": []
          },
          "execution_count": 25
        }
      ]
    },
    {
      "cell_type": "code",
      "metadata": {
        "colab": {
          "base_uri": "https://localhost:8080/",
          "height": 336
        },
        "id": "Fc7vvuMnQd5O",
        "outputId": "a2d24995-d9bb-4a71-c248-5cdacadb1633"
      },
      "source": [
        "\n",
        "# Feature 별 업종 비교\n",
        "g = sns.barplot(data= sea_mar_tidy,x= \"Features\",y= \"Value\", hue=\"종목명\")\n",
        "ax = g\n",
        "\n",
        "###############################\n",
        "# 아래 코드 공부 필요....\n",
        "# plt 사용법\n",
        "# .patches\n",
        "# ha, va\n",
        "# xytext\n",
        "# textcoords\n",
        "###############################\n",
        "import matplotlib.pyplot as plt\n",
        "\n",
        "for p in ax.patches: \n",
        "    ax.annotate(\"%.0f\" % p.get_height(), (p.get_x() + p.get_width()/2., p.get_height() - 30), \n",
        "       ha='center', va='center', fontsize=10, color='black', xytext=(0, 10), \n",
        "       textcoords='offset points') \n",
        "\n",
        "plt.xticks(fontsize=12, rotation=45)\n",
        "plt.show()\n"
      ],
      "execution_count": 26,
      "outputs": [
        {
          "output_type": "display_data",
          "data": {
            "image/png": "[encoded data removed]",
            "text/plain": [
              "<Figure size 432x288 with 1 Axes>"
            ]
          },
          "metadata": {
            "tags": [],
            "needs_background": "light"
          }
        }
      ]
    },
    {
      "cell_type": "code",
      "metadata": {
        "colab": {
          "base_uri": "https://localhost:8080/",
          "height": 309
        },
        "id": "13VNawLdS7sP",
        "outputId": "6ade42e3-ee48-4cd8-cdd2-a1fb42452695"
      },
      "source": [
        "sns.barplot(data= sea_mar_tidy,x= \"Features\",y= \"Value\", hue=\"종목명\")"
      ],
      "execution_count": 27,
      "outputs": [
        {
          "output_type": "execute_result",
          "data": {
            "text/plain": [
              "<matplotlib.axes._subplots.AxesSubplot at 0x7f7053cc9750>"
            ]
          },
          "metadata": {
            "tags": []
          },
          "execution_count": 27
        },
        {
          "output_type": "display_data",
          "data": {
            "image/png": "[encoded data removed]",
            "text/plain": [
              "<Figure size 432x288 with 1 Axes>"
            ]
          },
          "metadata": {
            "tags": [],
            "needs_background": "light"
          }
        }
      ]
    }
  ]
}