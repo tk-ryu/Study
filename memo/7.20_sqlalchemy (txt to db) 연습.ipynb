{
 "cells": [
  {
   "cell_type": "code",
   "execution_count": 1,
   "id": "a73aa5c3",
   "metadata": {},
   "outputs": [],
   "source": [
    "from csv import DictReader\n",
    "from sqlalchemy import create_engine, Column, Integer, String, Float\n",
    "from sqlalchemy.orm import declarative_base, Session\n",
    "\n",
    "DATABASE_URI = \"sqlite:///titanic_orm_jupyter.db\"\n",
    "CSV_FILEPATH = 'titanic.txt'\n",
    "\n",
    "engine = create_engine(DATABASE_URI)\n",
    "Base = declarative_base(bind=engine)\n",
    "session = Session(bind=engine)"
   ]
  },
  {
   "cell_type": "code",
   "execution_count": 2,
   "id": "2f68f96e",
   "metadata": {},
   "outputs": [],
   "source": [
    "file = 'C:/Users/tkryu/Desktop/빅데이터 공부/Code States/Section 3/Sprint 2/Note 4/ds-sa-orm/titanic.txt'\n",
    "# with open(file ) as csvfile:\n",
    "#     reader = DictReader(csvfile, delimiter = ',')\n",
    "\n",
    "\n",
    "\n",
    "# class Passenger(object):\n",
    "#     def __init__(self, number, description, ref_des):\n",
    "#         self.Survived = Survived\n",
    "\n",
    "\n",
    "\n",
    "class Passenger(Base):\n",
    "    __tablename__ = 'Passenger'\n",
    "    Survived = Column(Integer)\n",
    "    Pclass = Column(Integer)\n",
    "    Name = Column(String, primary_key=True)\n",
    "    Sex = Column(String)\n",
    "    Age = Column(Integer)\n",
    "    Siblings = Column(Integer)\n",
    "    Parents = Column(Integer)\n",
    "    Fare = Column(Integer)\n",
    "\n",
    "Base.metadata.create_all(engine)\n",
    "\n",
    "# if __name__ == \"__main__\":\n",
    "#     try:\n",
    "#         with open(file) as file_1:\n",
    "#             reader = DictReader(file_1, delimiter = ',')\n",
    "#             for row in reader:\n",
    "#                 Passenger(**{\n",
    "                    \n",
    "#                     'Survived' : row['Survived'],\n",
    "#                     'Pclass' : row['Pclass'],\n",
    "#                     'Name' : row['Name'],\n",
    "#                     'Sex' : row['Sex'],\n",
    "#                     'Age' : row['Age'],\n",
    "#                     'Siblings' : row['Siblings/Spouses Aboard'],\n",
    "#                     'Parents' : row['Parents/Children Aboard'],\n",
    "#                     'Fare' : row['Fare']\n",
    "#                     })\n",
    "#                 session.add(Passenger)\n",
    "#             session.commit()\n",
    "#     except :\n",
    "#         session.rollback()\n",
    "#     finally:\n",
    "#         session.close()\n",
    "\n"
   ]
  },
  {
   "cell_type": "code",
   "execution_count": 3,
   "id": "cdd18307",
   "metadata": {},
   "outputs": [],
   "source": [
    "# with open(file) as file_1:\n",
    "#     reader = DictReader(file_1, delimiter = ',')\n",
    "#     for row in reader:\n",
    "#         p = Passenger(\n",
    "#             Survived = row['Survived'],\n",
    "#             Pclass = row['Pclass'],\n",
    "#             Name = row['Name'],\n",
    "#             Sex = row['Sex'],\n",
    "#             Age = row['Age'],\n",
    "#             Siblings = row['Siblings/Spouses Aboard'],\n",
    "#             Parents = row['Parents/Children Aboard'],\n",
    "#             Fare = row['Fare']\n",
    "#             )\n",
    "#         session.add(p)\n",
    "#     session.commit()"
   ]
  },
  {
   "cell_type": "code",
   "execution_count": 5,
   "id": "65e83682",
   "metadata": {},
   "outputs": [],
   "source": [
    "if __name__ == \"__main__\":\n",
    "    try:\n",
    "        with open(file) as file_1:\n",
    "            reader = DictReader(file_1, delimiter = ',')\n",
    "        for row in reader:\n",
    "            p = Passenger(\n",
    "                Survived = row['Survived'],\n",
    "                Pclass = row['Pclass'],\n",
    "                Name = row['Name'],\n",
    "                Sex = row['Sex'],\n",
    "                Age = row['Age'],\n",
    "                Siblings = row['Siblings/Spouses Aboard'],\n",
    "                Parents = row['Parents/Children Aboard'],\n",
    "                Fare = row['Fare']\n",
    "                )\n",
    "            session.add(p)\n",
    "        session.commit()\n",
    "    except:\n",
    "        session.rollback()\n",
    "    finally:\n",
    "        session.close()"
   ]
  },
  {
   "cell_type": "code",
   "execution_count": null,
   "id": "c28d9356",
   "metadata": {},
   "outputs": [],
   "source": [
    "#Base.metadata.drop_all(bind=engine)"
   ]
  }
 ],
 "metadata": {
  "kernelspec": {
   "display_name": "Section3",
   "language": "python",
   "name": "section3"
  },
  "language_info": {
   "codemirror_mode": {
    "name": "ipython",
    "version": 3
   },
   "file_extension": ".py",
   "mimetype": "text/x-python",
   "name": "python",
   "nbconvert_exporter": "python",
   "pygments_lexer": "ipython3",
   "version": "3.8.10"
  }
 },
 "nbformat": 4,
 "nbformat_minor": 5
}
