{
 "cells": [
  {
   "cell_type": "code",
   "execution_count": 1,
   "id": "63f25233",
   "metadata": {
    "scrolled": true
   },
   "outputs": [],
   "source": [
    "from sqlalchemy import create_engine\n",
    "\n",
    "# 엔진 설정\n",
    "# 데이터베이스 uri\n",
    "engine = create_engine(\"sqlite:///:memory:\")\n"
   ]
  },
  {
   "cell_type": "code",
   "execution_count": 2,
   "id": "93eb586d",
   "metadata": {},
   "outputs": [],
   "source": [
    "from sqlalchemy.orm import declarative_base\n",
    "\n",
    "# base라는 클래스 생성\n",
    "Base = declarative_base()"
   ]
  },
  {
   "cell_type": "markdown",
   "id": "43762793",
   "metadata": {},
   "source": [
    "**SQL Query**  \n",
    "CREATE TABLE user(  \n",
    "$\\quad$ id INTEGER PRIMARY KEY,  \n",
    "$\\quad$ name STRING,  \n",
    "$\\quad$age INTEGER  \n",
    ");  "
   ]
  },
  {
   "cell_type": "code",
   "execution_count": 3,
   "id": "37c110de",
   "metadata": {},
   "outputs": [],
   "source": [
    "from sqlalchemy import Column, Integer, String\n",
    "\n",
    "# 테이블 생성\n",
    "class User(Base):\n",
    "    __tablename__ = 'User'\n",
    "    \n",
    "    id = Column(Integer, primary_key = True)\n",
    "    name = Column(String)\n",
    "    age = Column(Integer)\n",
    "    \n",
    "    #report = 어떤 데이터에 대한 간략한 설명을 설정하는 것\n",
    "    def __repr__(self):\n",
    "        return f\"User {self.id}: {self.name}\""
   ]
  },
  {
   "cell_type": "code",
   "execution_count": 4,
   "id": "c15e8365",
   "metadata": {},
   "outputs": [],
   "source": [
    "# 스키마 생성\n",
    "\n",
    "Base.metadata.create_all(engine)"
   ]
  },
  {
   "cell_type": "code",
   "execution_count": null,
   "id": "b601856f",
   "metadata": {},
   "outputs": [],
   "source": []
  },
  {
   "cell_type": "code",
   "execution_count": 5,
   "id": "9ba97142",
   "metadata": {},
   "outputs": [],
   "source": [
    "engine = create_engine(\"sqlite:///orm_db_jupyter.sqlite3\")\n",
    "Base = declarative_base()\n",
    "\n",
    "class User(Base):\n",
    "    __tablename__ = 'User'\n",
    "    \n",
    "    id = Column(Integer, primary_key = True)\n",
    "    name = Column(String)\n",
    "    age = Column(Integer)\n",
    "    \n",
    "    def __repr__(self):\n",
    "        return f\"User {self.id}: {self.name}\"\n",
    "\n",
    "Base.metadata.create_all(engine)"
   ]
  },
  {
   "cell_type": "code",
   "execution_count": 8,
   "id": "ba654070",
   "metadata": {},
   "outputs": [
    {
     "name": "stdout",
     "output_type": "stream",
     "text": [
      "sessionmaker(class_='Session', bind=Engine(sqlite:///orm_db_jupyter.sqlite3), autoflush=True, autocommit=False, expire_on_commit=True)\n"
     ]
    }
   ],
   "source": [
    "from sqlalchemy.orm import sessionmaker\n",
    "\n",
    "session = sessionmaker(bind = engine)\n",
    "\n",
    "print(session)"
   ]
  },
  {
   "cell_type": "code",
   "execution_count": 13,
   "id": "8f9824f6",
   "metadata": {},
   "outputs": [],
   "source": [
    "# sessionmaker로 만든 session이라는 클래스에 커넥션을 열어줘야함\n",
    "s = session()\n",
    "\n",
    "# 데이터 생성\n",
    "patrick = User(name = \"Patrick\", age = 20)\n",
    "s.add(patrick)\n",
    "\n",
    "spongebob = User(name = \"spongebob\", age = 12)\n",
    "s.add(spongebob)"
   ]
  },
  {
   "cell_type": "code",
   "execution_count": null,
   "id": "d88d91c4",
   "metadata": {},
   "outputs": [],
   "source": []
  },
  {
   "cell_type": "code",
   "execution_count": 14,
   "id": "2bdd082a",
   "metadata": {},
   "outputs": [],
   "source": [
    "# 커밋을 해야 데이터베이스에 기록됨\n",
    "# 현재까지 한 것은 세션에 기록한 것. 세션을 다시 데이터베이스에 기록해주는 작업\n",
    "# 이대로 종료되거나 세션의 연결이 종료되면, ROLLBACK이 실행됨.\n",
    "s.commit()"
   ]
  },
  {
   "cell_type": "code",
   "execution_count": 18,
   "id": "483c5a7c",
   "metadata": {},
   "outputs": [
    {
     "name": "stdout",
     "output_type": "stream",
     "text": [
      "User 1: Patrick\n"
     ]
    }
   ],
   "source": [
    "patrick = s.query(User).filter_by(name=\"Patrick\").first()\n",
    "print(patrick)"
   ]
  },
  {
   "cell_type": "code",
   "execution_count": 19,
   "id": "e7eb3d10",
   "metadata": {},
   "outputs": [],
   "source": [
    "s.delete(patrick)\n",
    "s.commit()"
   ]
  },
  {
   "cell_type": "code",
   "execution_count": 21,
   "id": "90231684",
   "metadata": {},
   "outputs": [
    {
     "name": "stdout",
     "output_type": "stream",
     "text": [
      "spongebob\n",
      "12\n"
     ]
    }
   ],
   "source": [
    "spongebob = s.query(User).filter_by(name=\"spongebob\").first()\n",
    "print(spongebob.name)\n",
    "print(spongebob.age)"
   ]
  },
  {
   "cell_type": "code",
   "execution_count": 22,
   "id": "9e6b55f0",
   "metadata": {},
   "outputs": [
    {
     "name": "stdout",
     "output_type": "stream",
     "text": [
      "Spongebob 2\n"
     ]
    }
   ],
   "source": [
    "spongebob.name = 'Spongebob 2'\n",
    "print(spongebob.name)"
   ]
  },
  {
   "cell_type": "code",
   "execution_count": 23,
   "id": "dedffcf9",
   "metadata": {},
   "outputs": [],
   "source": [
    "s.commit()"
   ]
  },
  {
   "cell_type": "code",
   "execution_count": 30,
   "id": "e3c99f4a",
   "metadata": {},
   "outputs": [
    {
     "name": "stdout",
     "output_type": "stream",
     "text": [
      "[User 2: Patrick]\n"
     ]
    }
   ],
   "source": [
    "patrick = s.query(User).filter_by(name=\"Patrick\").all()\n",
    "print(patrick)"
   ]
  },
  {
   "cell_type": "code",
   "execution_count": 26,
   "id": "8414e5b6",
   "metadata": {},
   "outputs": [
    {
     "data": {
      "text/plain": [
       "<sqlalchemy.orm.session.Session at 0x21c40085850>"
      ]
     },
     "execution_count": 26,
     "metadata": {},
     "output_type": "execute_result"
    }
   ],
   "source": [
    "s\n"
   ]
  },
  {
   "cell_type": "code",
   "execution_count": 32,
   "id": "0244dc2b",
   "metadata": {},
   "outputs": [
    {
     "name": "stdout",
     "output_type": "stream",
     "text": [
      "Patrick\n"
     ]
    }
   ],
   "source": [
    "print(patrick[0].name)"
   ]
  },
  {
   "cell_type": "code",
   "execution_count": 33,
   "id": "80c18321",
   "metadata": {},
   "outputs": [],
   "source": [
    "patrick = User(name = \"Patrick\", age = 20)\n",
    "s.add(patrick)\n",
    "patrick = User(name = \"Patrick\", age = 20)\n",
    "s.add(patrick)\n",
    "patrick = User(name = \"Patrick\", age = 20)\n",
    "s.add(patrick)\n",
    "s.commit()"
   ]
  },
  {
   "cell_type": "code",
   "execution_count": 38,
   "id": "58585267",
   "metadata": {},
   "outputs": [
    {
     "data": {
      "text/plain": [
       "[User 2: Patrick,\n",
       " User 3: Spongebob 2,\n",
       " User 4: Patrick,\n",
       " User 5: Patrick,\n",
       " User 6: Patrick]"
      ]
     },
     "execution_count": 38,
     "metadata": {},
     "output_type": "execute_result"
    }
   ],
   "source": [
    "s.query(User).all()"
   ]
  },
  {
   "cell_type": "code",
   "execution_count": 40,
   "id": "d76cd6a2",
   "metadata": {},
   "outputs": [
    {
     "data": {
      "text/plain": [
       "[User 2: Patrick, User 4: Patrick, User 5: Patrick, User 6: Patrick]"
      ]
     },
     "execution_count": 40,
     "metadata": {},
     "output_type": "execute_result"
    }
   ],
   "source": [
    "patricks = s.query(User).filter_by(name = 'Patrick').all()\n",
    "patricks"
   ]
  },
  {
   "cell_type": "code",
   "execution_count": 43,
   "id": "a24bc7b0",
   "metadata": {},
   "outputs": [],
   "source": [
    "s.query(User).filter_by(name = 'Patrick').delete()\n",
    "s.commit()"
   ]
  },
  {
   "cell_type": "code",
   "execution_count": 44,
   "id": "b505557e",
   "metadata": {},
   "outputs": [
    {
     "data": {
      "text/plain": [
       "[User 3: Spongebob 2]"
      ]
     },
     "execution_count": 44,
     "metadata": {},
     "output_type": "execute_result"
    }
   ],
   "source": [
    "s.query(User).all()"
   ]
  },
  {
   "cell_type": "code",
   "execution_count": null,
   "id": "677d2e9f",
   "metadata": {},
   "outputs": [],
   "source": [
    "s"
   ]
  }
 ],
 "metadata": {
  "kernelspec": {
   "display_name": "Section3",
   "language": "python",
   "name": "section3"
  },
  "language_info": {
   "codemirror_mode": {
    "name": "ipython",
    "version": 3
   },
   "file_extension": ".py",
   "mimetype": "text/x-python",
   "name": "python",
   "nbconvert_exporter": "python",
   "pygments_lexer": "ipython3",
   "version": "3.8.10"
  }
 },
 "nbformat": 4,
 "nbformat_minor": 5
}
