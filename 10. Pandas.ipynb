{
 "cells": [
  {
   "cell_type": "code",
   "execution_count": 8,
   "metadata": {},
   "outputs": [
    {
     "data": {
      "text/html": [
       "<div>\n",
       "<style scoped>\n",
       "    .dataframe tbody tr th:only-of-type {\n",
       "        vertical-align: middle;\n",
       "    }\n",
       "\n",
       "    .dataframe tbody tr th {\n",
       "        vertical-align: top;\n",
       "    }\n",
       "\n",
       "    .dataframe thead th {\n",
       "        text-align: right;\n",
       "    }\n",
       "</style>\n",
       "<table border=\"1\" class=\"dataframe\">\n",
       "  <thead>\n",
       "    <tr style=\"text-align: right;\">\n",
       "      <th></th>\n",
       "      <th>2019.12</th>\n",
       "      <th>2020.03</th>\n",
       "      <th>2020.06</th>\n",
       "      <th>2020.09</th>\n",
       "      <th>2020.12</th>\n",
       "    </tr>\n",
       "    <tr>\n",
       "      <th>매출액</th>\n",
       "      <th></th>\n",
       "      <th></th>\n",
       "      <th></th>\n",
       "      <th></th>\n",
       "      <th></th>\n",
       "    </tr>\n",
       "  </thead>\n",
       "  <tbody>\n",
       "    <tr>\n",
       "      <th>대한해운</th>\n",
       "      <td>2500.0</td>\n",
       "      <td>2307.0</td>\n",
       "      <td>2108.0</td>\n",
       "      <td>2204.0</td>\n",
       "      <td>2222.0</td>\n",
       "    </tr>\n",
       "    <tr>\n",
       "      <th>팬오션</th>\n",
       "      <td>6187.0</td>\n",
       "      <td>5588.0</td>\n",
       "      <td>6834.0</td>\n",
       "      <td>6344.0</td>\n",
       "      <td>6205.0</td>\n",
       "    </tr>\n",
       "    <tr>\n",
       "      <th>KSS해운</th>\n",
       "      <td>617.0</td>\n",
       "      <td>618.0</td>\n",
       "      <td>524.0</td>\n",
       "      <td>574.0</td>\n",
       "      <td>546.0</td>\n",
       "    </tr>\n",
       "    <tr>\n",
       "      <th>에스엘바이오닉스</th>\n",
       "      <td>32.0</td>\n",
       "      <td>67.0</td>\n",
       "      <td>67.0</td>\n",
       "      <td>86.0</td>\n",
       "      <td>66.0</td>\n",
       "    </tr>\n",
       "    <tr>\n",
       "      <th>오성첨단소재</th>\n",
       "      <td>191.0</td>\n",
       "      <td>188.0</td>\n",
       "      <td>208.0</td>\n",
       "      <td>216.0</td>\n",
       "      <td>184.0</td>\n",
       "    </tr>\n",
       "    <tr>\n",
       "      <th>에이아이비트</th>\n",
       "      <td>90.0</td>\n",
       "      <td>91.0</td>\n",
       "      <td>59.0</td>\n",
       "      <td>86.0</td>\n",
       "      <td>57.0</td>\n",
       "    </tr>\n",
       "  </tbody>\n",
       "</table>\n",
       "</div>"
      ],
      "text/plain": [
       "          2019.12  2020.03  2020.06  2020.09  2020.12\n",
       "매출액                                                  \n",
       "대한해운       2500.0   2307.0   2108.0   2204.0   2222.0\n",
       "팬오션        6187.0   5588.0   6834.0   6344.0   6205.0\n",
       "KSS해운       617.0    618.0    524.0    574.0    546.0\n",
       "에스엘바이오닉스     32.0     67.0     67.0     86.0     66.0\n",
       "오성첨단소재      191.0    188.0    208.0    216.0    184.0\n",
       "에이아이비트       90.0     91.0     59.0     86.0     57.0"
      ]
     },
     "execution_count": 8,
     "metadata": {},
     "output_type": "execute_result"
    }
   ],
   "source": [
    "import pandas as pd\n",
    "\n",
    "fin = pd.read_csv(\"Dataframe_practice.csv\", index_col=\"매출액\")\n",
    "fin"
   ]
  },
  {
   "cell_type": "markdown",
   "metadata": {},
   "source": [
    "**↑ 불러올 때 index_col = \"XX\" 으로 인덱스 지정 가능**"
   ]
  },
  {
   "cell_type": "markdown",
   "metadata": {},
   "source": [
    "**↓ 인덱스 지정 됐는지 확인**"
   ]
  },
  {
   "cell_type": "code",
   "execution_count": 10,
   "metadata": {},
   "outputs": [
    {
     "data": {
      "text/plain": [
       "Index(['대한해운', '팬오션', 'KSS해운', '에스엘바이오닉스', '오성첨단소재', '에이아이비트'], dtype='object', name='매출액')"
      ]
     },
     "execution_count": 10,
     "metadata": {},
     "output_type": "execute_result"
    }
   ],
   "source": [
    "fin.index"
   ]
  },
  {
   "cell_type": "markdown",
   "metadata": {},
   "source": [
    "**↓ 지정한 칼럼(시리즈로)에서 오름차순 정렬**"
   ]
  },
  {
   "cell_type": "code",
   "execution_count": 12,
   "metadata": {},
   "outputs": [
    {
     "data": {
      "text/plain": [
       "매출액\n",
       "에스엘바이오닉스      32.0\n",
       "에이아이비트        90.0\n",
       "오성첨단소재       191.0\n",
       "KSS해운        617.0\n",
       "대한해운        2500.0\n",
       "팬오션         6187.0\n",
       "Name: 2019.12, dtype: float64"
      ]
     },
     "execution_count": 12,
     "metadata": {},
     "output_type": "execute_result"
    }
   ],
   "source": [
    "fin['2019.12'].sort_values()"
   ]
  },
  {
   "cell_type": "markdown",
   "metadata": {},
   "source": [
    "**↓ 내림차순 정렬**"
   ]
  },
  {
   "cell_type": "code",
   "execution_count": 13,
   "metadata": {},
   "outputs": [
    {
     "data": {
      "text/plain": [
       "매출액\n",
       "팬오션         6187.0\n",
       "대한해운        2500.0\n",
       "KSS해운        617.0\n",
       "오성첨단소재       191.0\n",
       "에이아이비트        90.0\n",
       "에스엘바이오닉스      32.0\n",
       "Name: 2019.12, dtype: float64"
      ]
     },
     "execution_count": 13,
     "metadata": {},
     "output_type": "execute_result"
    }
   ],
   "source": [
    "fin['2019.12'].sort_values(ascending = False)"
   ]
  },
  {
   "cell_type": "markdown",
   "metadata": {},
   "source": [
    "**↓ 전체 데이터에서 해당 칼럼 기준 정렬**"
   ]
  },
  {
   "cell_type": "code",
   "execution_count": 16,
   "metadata": {},
   "outputs": [
    {
     "data": {
      "text/html": [
       "<div>\n",
       "<style scoped>\n",
       "    .dataframe tbody tr th:only-of-type {\n",
       "        vertical-align: middle;\n",
       "    }\n",
       "\n",
       "    .dataframe tbody tr th {\n",
       "        vertical-align: top;\n",
       "    }\n",
       "\n",
       "    .dataframe thead th {\n",
       "        text-align: right;\n",
       "    }\n",
       "</style>\n",
       "<table border=\"1\" class=\"dataframe\">\n",
       "  <thead>\n",
       "    <tr style=\"text-align: right;\">\n",
       "      <th></th>\n",
       "      <th>2019.12</th>\n",
       "      <th>2020.03</th>\n",
       "      <th>2020.06</th>\n",
       "      <th>2020.09</th>\n",
       "      <th>2020.12</th>\n",
       "    </tr>\n",
       "    <tr>\n",
       "      <th>매출액</th>\n",
       "      <th></th>\n",
       "      <th></th>\n",
       "      <th></th>\n",
       "      <th></th>\n",
       "      <th></th>\n",
       "    </tr>\n",
       "  </thead>\n",
       "  <tbody>\n",
       "    <tr>\n",
       "      <th>팬오션</th>\n",
       "      <td>6187.0</td>\n",
       "      <td>5588.0</td>\n",
       "      <td>6834.0</td>\n",
       "      <td>6344.0</td>\n",
       "      <td>6205.0</td>\n",
       "    </tr>\n",
       "    <tr>\n",
       "      <th>대한해운</th>\n",
       "      <td>2500.0</td>\n",
       "      <td>2307.0</td>\n",
       "      <td>2108.0</td>\n",
       "      <td>2204.0</td>\n",
       "      <td>2222.0</td>\n",
       "    </tr>\n",
       "    <tr>\n",
       "      <th>KSS해운</th>\n",
       "      <td>617.0</td>\n",
       "      <td>618.0</td>\n",
       "      <td>524.0</td>\n",
       "      <td>574.0</td>\n",
       "      <td>546.0</td>\n",
       "    </tr>\n",
       "    <tr>\n",
       "      <th>오성첨단소재</th>\n",
       "      <td>191.0</td>\n",
       "      <td>188.0</td>\n",
       "      <td>208.0</td>\n",
       "      <td>216.0</td>\n",
       "      <td>184.0</td>\n",
       "    </tr>\n",
       "    <tr>\n",
       "      <th>에이아이비트</th>\n",
       "      <td>90.0</td>\n",
       "      <td>91.0</td>\n",
       "      <td>59.0</td>\n",
       "      <td>86.0</td>\n",
       "      <td>57.0</td>\n",
       "    </tr>\n",
       "    <tr>\n",
       "      <th>에스엘바이오닉스</th>\n",
       "      <td>32.0</td>\n",
       "      <td>67.0</td>\n",
       "      <td>67.0</td>\n",
       "      <td>86.0</td>\n",
       "      <td>66.0</td>\n",
       "    </tr>\n",
       "  </tbody>\n",
       "</table>\n",
       "</div>"
      ],
      "text/plain": [
       "          2019.12  2020.03  2020.06  2020.09  2020.12\n",
       "매출액                                                  \n",
       "팬오션        6187.0   5588.0   6834.0   6344.0   6205.0\n",
       "대한해운       2500.0   2307.0   2108.0   2204.0   2222.0\n",
       "KSS해운       617.0    618.0    524.0    574.0    546.0\n",
       "오성첨단소재      191.0    188.0    208.0    216.0    184.0\n",
       "에이아이비트       90.0     91.0     59.0     86.0     57.0\n",
       "에스엘바이오닉스     32.0     67.0     67.0     86.0     66.0"
      ]
     },
     "execution_count": 16,
     "metadata": {},
     "output_type": "execute_result"
    }
   ],
   "source": [
    "fin.sort_values(by=\"2020.03\", ascending = False)"
   ]
  },
  {
   "cell_type": "markdown",
   "metadata": {},
   "source": [
    "**↓ 정렬 기준을 여러개 설정**"
   ]
  },
  {
   "cell_type": "code",
   "execution_count": 20,
   "metadata": {},
   "outputs": [
    {
     "data": {
      "text/html": [
       "<div>\n",
       "<style scoped>\n",
       "    .dataframe tbody tr th:only-of-type {\n",
       "        vertical-align: middle;\n",
       "    }\n",
       "\n",
       "    .dataframe tbody tr th {\n",
       "        vertical-align: top;\n",
       "    }\n",
       "\n",
       "    .dataframe thead th {\n",
       "        text-align: right;\n",
       "    }\n",
       "</style>\n",
       "<table border=\"1\" class=\"dataframe\">\n",
       "  <thead>\n",
       "    <tr style=\"text-align: right;\">\n",
       "      <th></th>\n",
       "      <th>2019.12</th>\n",
       "      <th>2020.03</th>\n",
       "      <th>2020.06</th>\n",
       "      <th>2020.09</th>\n",
       "      <th>2020.12</th>\n",
       "    </tr>\n",
       "    <tr>\n",
       "      <th>매출액</th>\n",
       "      <th></th>\n",
       "      <th></th>\n",
       "      <th></th>\n",
       "      <th></th>\n",
       "      <th></th>\n",
       "    </tr>\n",
       "  </thead>\n",
       "  <tbody>\n",
       "    <tr>\n",
       "      <th>팬오션</th>\n",
       "      <td>6187.0</td>\n",
       "      <td>5588.0</td>\n",
       "      <td>6834.0</td>\n",
       "      <td>6344.0</td>\n",
       "      <td>6205.0</td>\n",
       "    </tr>\n",
       "    <tr>\n",
       "      <th>대한해운</th>\n",
       "      <td>2500.0</td>\n",
       "      <td>2307.0</td>\n",
       "      <td>2108.0</td>\n",
       "      <td>2204.0</td>\n",
       "      <td>2222.0</td>\n",
       "    </tr>\n",
       "    <tr>\n",
       "      <th>KSS해운</th>\n",
       "      <td>617.0</td>\n",
       "      <td>618.0</td>\n",
       "      <td>524.0</td>\n",
       "      <td>574.0</td>\n",
       "      <td>546.0</td>\n",
       "    </tr>\n",
       "    <tr>\n",
       "      <th>오성첨단소재</th>\n",
       "      <td>191.0</td>\n",
       "      <td>188.0</td>\n",
       "      <td>208.0</td>\n",
       "      <td>216.0</td>\n",
       "      <td>184.0</td>\n",
       "    </tr>\n",
       "    <tr>\n",
       "      <th>에이아이비트</th>\n",
       "      <td>90.0</td>\n",
       "      <td>91.0</td>\n",
       "      <td>59.0</td>\n",
       "      <td>86.0</td>\n",
       "      <td>57.0</td>\n",
       "    </tr>\n",
       "    <tr>\n",
       "      <th>에스엘바이오닉스</th>\n",
       "      <td>32.0</td>\n",
       "      <td>67.0</td>\n",
       "      <td>67.0</td>\n",
       "      <td>86.0</td>\n",
       "      <td>66.0</td>\n",
       "    </tr>\n",
       "  </tbody>\n",
       "</table>\n",
       "</div>"
      ],
      "text/plain": [
       "          2019.12  2020.03  2020.06  2020.09  2020.12\n",
       "매출액                                                  \n",
       "팬오션        6187.0   5588.0   6834.0   6344.0   6205.0\n",
       "대한해운       2500.0   2307.0   2108.0   2204.0   2222.0\n",
       "KSS해운       617.0    618.0    524.0    574.0    546.0\n",
       "오성첨단소재      191.0    188.0    208.0    216.0    184.0\n",
       "에이아이비트       90.0     91.0     59.0     86.0     57.0\n",
       "에스엘바이오닉스     32.0     67.0     67.0     86.0     66.0"
      ]
     },
     "execution_count": 20,
     "metadata": {},
     "output_type": "execute_result"
    }
   ],
   "source": [
    "fin.sort_values(by=[\"2019.12\",\"2020.12\"], ascending = False)"
   ]
  },
  {
   "cell_type": "markdown",
   "metadata": {},
   "source": [
    "## <span style =\"color:blue\">  결측치"
   ]
  },
  {
   "cell_type": "markdown",
   "metadata": {},
   "source": [
    "**우선 결측치 만들고**"
   ]
  },
  {
   "cell_type": "code",
   "execution_count": 24,
   "metadata": {},
   "outputs": [
    {
     "data": {
      "text/html": [
       "<div>\n",
       "<style scoped>\n",
       "    .dataframe tbody tr th:only-of-type {\n",
       "        vertical-align: middle;\n",
       "    }\n",
       "\n",
       "    .dataframe tbody tr th {\n",
       "        vertical-align: top;\n",
       "    }\n",
       "\n",
       "    .dataframe thead th {\n",
       "        text-align: right;\n",
       "    }\n",
       "</style>\n",
       "<table border=\"1\" class=\"dataframe\">\n",
       "  <thead>\n",
       "    <tr style=\"text-align: right;\">\n",
       "      <th></th>\n",
       "      <th>2019.12</th>\n",
       "      <th>2020.03</th>\n",
       "      <th>2020.06</th>\n",
       "      <th>2020.09</th>\n",
       "      <th>2020.12</th>\n",
       "    </tr>\n",
       "    <tr>\n",
       "      <th>매출액</th>\n",
       "      <th></th>\n",
       "      <th></th>\n",
       "      <th></th>\n",
       "      <th></th>\n",
       "      <th></th>\n",
       "    </tr>\n",
       "  </thead>\n",
       "  <tbody>\n",
       "    <tr>\n",
       "      <th>대한해운</th>\n",
       "      <td>2500.0</td>\n",
       "      <td>2307.0</td>\n",
       "      <td>2108.0</td>\n",
       "      <td>2204.0</td>\n",
       "      <td>2222.0</td>\n",
       "    </tr>\n",
       "    <tr>\n",
       "      <th>팬오션</th>\n",
       "      <td>6187.0</td>\n",
       "      <td>5588.0</td>\n",
       "      <td>6834.0</td>\n",
       "      <td>6344.0</td>\n",
       "      <td>6205.0</td>\n",
       "    </tr>\n",
       "    <tr>\n",
       "      <th>KSS해운</th>\n",
       "      <td>617.0</td>\n",
       "      <td>618.0</td>\n",
       "      <td>524.0</td>\n",
       "      <td>574.0</td>\n",
       "      <td>546.0</td>\n",
       "    </tr>\n",
       "    <tr>\n",
       "      <th>에스엘바이오닉스</th>\n",
       "      <td>32.0</td>\n",
       "      <td>67.0</td>\n",
       "      <td>67.0</td>\n",
       "      <td>86.0</td>\n",
       "      <td>66.0</td>\n",
       "    </tr>\n",
       "    <tr>\n",
       "      <th>오성첨단소재</th>\n",
       "      <td>191.0</td>\n",
       "      <td>188.0</td>\n",
       "      <td>NaN</td>\n",
       "      <td>216.0</td>\n",
       "      <td>184.0</td>\n",
       "    </tr>\n",
       "    <tr>\n",
       "      <th>에이아이비트</th>\n",
       "      <td>90.0</td>\n",
       "      <td>91.0</td>\n",
       "      <td>59.0</td>\n",
       "      <td>86.0</td>\n",
       "      <td>57.0</td>\n",
       "    </tr>\n",
       "  </tbody>\n",
       "</table>\n",
       "</div>"
      ],
      "text/plain": [
       "          2019.12  2020.03  2020.06  2020.09  2020.12\n",
       "매출액                                                  \n",
       "대한해운       2500.0   2307.0   2108.0   2204.0   2222.0\n",
       "팬오션        6187.0   5588.0   6834.0   6344.0   6205.0\n",
       "KSS해운       617.0    618.0    524.0    574.0    546.0\n",
       "에스엘바이오닉스     32.0     67.0     67.0     86.0     66.0\n",
       "오성첨단소재      191.0    188.0      NaN    216.0    184.0\n",
       "에이아이비트       90.0     91.0     59.0     86.0     57.0"
      ]
     },
     "execution_count": 24,
     "metadata": {},
     "output_type": "execute_result"
    }
   ],
   "source": [
    "import numpy as np\n",
    "fin2 = fin.replace(208, np.nan)\n",
    "fin2"
   ]
  },
  {
   "cell_type": "markdown",
   "metadata": {},
   "source": [
    "**.fillna(value = )로 결측치 처리, inplace = True는 실제 데이터프레임에 적용시키겠다 (없으면 출력할 때만 보이고 실제 데이터가 변경되진 않음)**"
   ]
  },
  {
   "cell_type": "code",
   "execution_count": 28,
   "metadata": {},
   "outputs": [
    {
     "data": {
      "text/html": [
       "<div>\n",
       "<style scoped>\n",
       "    .dataframe tbody tr th:only-of-type {\n",
       "        vertical-align: middle;\n",
       "    }\n",
       "\n",
       "    .dataframe tbody tr th {\n",
       "        vertical-align: top;\n",
       "    }\n",
       "\n",
       "    .dataframe thead th {\n",
       "        text-align: right;\n",
       "    }\n",
       "</style>\n",
       "<table border=\"1\" class=\"dataframe\">\n",
       "  <thead>\n",
       "    <tr style=\"text-align: right;\">\n",
       "      <th></th>\n",
       "      <th>2019.12</th>\n",
       "      <th>2020.03</th>\n",
       "      <th>2020.06</th>\n",
       "      <th>2020.09</th>\n",
       "      <th>2020.12</th>\n",
       "    </tr>\n",
       "    <tr>\n",
       "      <th>매출액</th>\n",
       "      <th></th>\n",
       "      <th></th>\n",
       "      <th></th>\n",
       "      <th></th>\n",
       "      <th></th>\n",
       "    </tr>\n",
       "  </thead>\n",
       "  <tbody>\n",
       "    <tr>\n",
       "      <th>대한해운</th>\n",
       "      <td>2500.0</td>\n",
       "      <td>2307.0</td>\n",
       "      <td>2108.0</td>\n",
       "      <td>2204.0</td>\n",
       "      <td>2222.0</td>\n",
       "    </tr>\n",
       "    <tr>\n",
       "      <th>팬오션</th>\n",
       "      <td>6187.0</td>\n",
       "      <td>5588.0</td>\n",
       "      <td>6834.0</td>\n",
       "      <td>6344.0</td>\n",
       "      <td>6205.0</td>\n",
       "    </tr>\n",
       "    <tr>\n",
       "      <th>KSS해운</th>\n",
       "      <td>617.0</td>\n",
       "      <td>618.0</td>\n",
       "      <td>524.0</td>\n",
       "      <td>574.0</td>\n",
       "      <td>546.0</td>\n",
       "    </tr>\n",
       "    <tr>\n",
       "      <th>에스엘바이오닉스</th>\n",
       "      <td>32.0</td>\n",
       "      <td>67.0</td>\n",
       "      <td>67.0</td>\n",
       "      <td>86.0</td>\n",
       "      <td>66.0</td>\n",
       "    </tr>\n",
       "    <tr>\n",
       "      <th>오성첨단소재</th>\n",
       "      <td>191.0</td>\n",
       "      <td>188.0</td>\n",
       "      <td>0.0</td>\n",
       "      <td>216.0</td>\n",
       "      <td>184.0</td>\n",
       "    </tr>\n",
       "    <tr>\n",
       "      <th>에이아이비트</th>\n",
       "      <td>90.0</td>\n",
       "      <td>91.0</td>\n",
       "      <td>59.0</td>\n",
       "      <td>86.0</td>\n",
       "      <td>57.0</td>\n",
       "    </tr>\n",
       "  </tbody>\n",
       "</table>\n",
       "</div>"
      ],
      "text/plain": [
       "          2019.12  2020.03  2020.06  2020.09  2020.12\n",
       "매출액                                                  \n",
       "대한해운       2500.0   2307.0   2108.0   2204.0   2222.0\n",
       "팬오션        6187.0   5588.0   6834.0   6344.0   6205.0\n",
       "KSS해운       617.0    618.0    524.0    574.0    546.0\n",
       "에스엘바이오닉스     32.0     67.0     67.0     86.0     66.0\n",
       "오성첨단소재      191.0    188.0      0.0    216.0    184.0\n",
       "에이아이비트       90.0     91.0     59.0     86.0     57.0"
      ]
     },
     "execution_count": 28,
     "metadata": {},
     "output_type": "execute_result"
    }
   ],
   "source": [
    "fin2.fillna(value = 0, inplace = True)\n",
    "fin2"
   ]
  },
  {
   "cell_type": "markdown",
   "metadata": {},
   "source": [
    "### <span style=\"color:blue\"> Count"
   ]
  },
  {
   "cell_type": "code",
   "execution_count": 31,
   "metadata": {},
   "outputs": [
    {
     "data": {
      "text/plain": [
       "2019.12    6\n",
       "2020.03    6\n",
       "2020.06    6\n",
       "2020.09    6\n",
       "2020.12    6\n",
       "dtype: int64"
      ]
     },
     "execution_count": 31,
     "metadata": {},
     "output_type": "execute_result"
    }
   ],
   "source": [
    "fin.count()"
   ]
  },
  {
   "cell_type": "markdown",
   "metadata": {},
   "source": [
    "**기본은 열(칼럼) 기준으로 확인(axis=0), 행별로 확인하려면 axis=1 추가**\n",
    "\n",
    "**결측치가 있는 경우 카운트 안됨**"
   ]
  },
  {
   "cell_type": "code",
   "execution_count": 33,
   "metadata": {},
   "outputs": [
    {
     "data": {
      "text/plain": [
       "매출액\n",
       "대한해운        5\n",
       "팬오션         5\n",
       "KSS해운       5\n",
       "에스엘바이오닉스    5\n",
       "오성첨단소재      5\n",
       "에이아이비트      5\n",
       "dtype: int64"
      ]
     },
     "execution_count": 33,
     "metadata": {},
     "output_type": "execute_result"
    }
   ],
   "source": [
    "fin.count(axis=1)"
   ]
  },
  {
   "cell_type": "markdown",
   "metadata": {},
   "source": [
    "### <span style=\"color:blue\"> value_counts 함수\n",
    "**값이 숫자, 문자열, 카테고리 값인 경우에 각각의 값이 나온 횟수를 셀 수 있다.**"
   ]
  },
  {
   "cell_type": "code",
   "execution_count": 37,
   "metadata": {},
   "outputs": [
    {
     "data": {
      "text/plain": [
       "0     0\n",
       "1     5\n",
       "2     4\n",
       "3     4\n",
       "4     5\n",
       "     ..\n",
       "95    0\n",
       "96    3\n",
       "97    5\n",
       "98    5\n",
       "99    4\n",
       "Length: 100, dtype: int32"
      ]
     },
     "execution_count": 37,
     "metadata": {},
     "output_type": "execute_result"
    }
   ],
   "source": [
    "s2 = pd.Series(np.random.randint(6, size = 100))\n",
    "s2"
   ]
  },
  {
   "cell_type": "code",
   "execution_count": 45,
   "metadata": {},
   "outputs": [
    {
     "data": {
      "text/plain": [
       "5    22\n",
       "4    19\n",
       "2    18\n",
       "0    16\n",
       "3    15\n",
       "1    10\n",
       "dtype: int64"
      ]
     },
     "execution_count": 45,
     "metadata": {},
     "output_type": "execute_result"
    }
   ],
   "source": [
    "s2.value_counts()"
   ]
  },
  {
   "cell_type": "code",
   "execution_count": 48,
   "metadata": {},
   "outputs": [
    {
     "data": {
      "text/plain": [
       "90.0      1\n",
       "191.0     1\n",
       "32.0      1\n",
       "617.0     1\n",
       "6187.0    1\n",
       "2500.0    1\n",
       "Name: 2019.12, dtype: int64"
      ]
     },
     "execution_count": 48,
     "metadata": {},
     "output_type": "execute_result"
    }
   ],
   "source": [
    "fin[\"2019.12\"].value_counts()"
   ]
  },
  {
   "cell_type": "markdown",
   "metadata": {},
   "source": [
    "**카테고리컬(categorical)한 데이터가 아닌 경우, 빈도수를 확인하는 것이 무의미 할 수 있다**\n",
    "\n",
    "**위의 매출액과 같이 데이터는 많은데 같은 데이터가 하나도 없을 수 있음**"
   ]
  }
 ],
 "metadata": {
  "kernelspec": {
   "display_name": "Python 3",
   "language": "python",
   "name": "python3"
  },
  "language_info": {
   "codemirror_mode": {
    "name": "ipython",
    "version": 3
   },
   "file_extension": ".py",
   "mimetype": "text/x-python",
   "name": "python",
   "nbconvert_exporter": "python",
   "pygments_lexer": "ipython3",
   "version": "3.8.5"
  }
 },
 "nbformat": 4,
 "nbformat_minor": 4
}
